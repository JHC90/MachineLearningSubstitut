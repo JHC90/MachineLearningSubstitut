{
 "cells": [
  {
   "cell_type": "code",
   "execution_count": 1,
   "metadata": {},
   "outputs": [],
   "source": [
    "import pandas as pd\n",
    "import numpy as np\n",
    "# explicitly require this experimental feature\n",
    "from sklearn.experimental import enable_iterative_imputer\n",
    "# now you can import normally from sklearn.impute\n",
    "from sklearn.impute import IterativeImputer\n",
    "from sklearn.ensemble import ExtraTreesRegressor\n",
    "from sklearn.linear_model import BayesianRidge\n",
    "import random"
   ]
  },
  {
   "cell_type": "code",
   "execution_count": 2,
   "metadata": {},
   "outputs": [],
   "source": [
    "data = np.random.random([1000,20])\n",
    "null_data = np.empty([1000,2])\n",
    "null_data[:] = np.nan\n",
    "full_data = np.concatenate((data,null_data), axis=1)\n",
    "full_data = np.random.permutation(full_data.flat)\n",
    "full_data = full_data.reshape([1000,22])"
   ]
  },
  {
   "cell_type": "code",
   "execution_count": 6,
   "metadata": {},
   "outputs": [
    {
     "name": "stdout",
     "output_type": "stream",
     "text": [
      "[[0.39732906 0.75773483 0.39483091 ... 0.0882337  0.4071472  0.97225093]\n",
      " [0.60867172 0.75913507 0.08950445 ... 0.01316137 0.92569153 0.47388331]\n",
      " [0.26805595 0.24149481 0.59741842 ... 0.71188824 0.31692344 0.68685495]\n",
      " ...\n",
      " [0.65058698 0.41520513 0.29112687 ... 0.7897728  0.8728034  0.38213251]\n",
      " [0.68878239 0.53705035 0.28307963 ... 0.59541191 0.05437906 0.21459225]\n",
      " [0.97503239 0.02580878 0.07815083 ... 0.68796701 0.65562676 0.00519959]]\n"
     ]
    }
   ],
   "source": [
    "print(data)"
   ]
  },
  {
   "cell_type": "code",
   "execution_count": 7,
   "metadata": {},
   "outputs": [],
   "source": [
    "imputer = IterativeImputer(BayesianRidge())\n",
    "impute_data = pd.DataFrame(imputer.fit_transform(full_data))"
   ]
  },
  {
   "cell_type": "code",
   "execution_count": null,
   "metadata": {},
   "outputs": [],
   "source": []
  }
 ],
 "metadata": {
  "kernelspec": {
   "display_name": "Python 3",
   "language": "python",
   "name": "python3"
  },
  "language_info": {
   "codemirror_mode": {
    "name": "ipython",
    "version": 3
   },
   "file_extension": ".py",
   "mimetype": "text/x-python",
   "name": "python",
   "nbconvert_exporter": "python",
   "pygments_lexer": "ipython3",
   "version": "3.6.9"
  }
 },
 "nbformat": 4,
 "nbformat_minor": 2
}
