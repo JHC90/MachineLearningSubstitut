{
 "cells": [
  {
   "cell_type": "markdown",
   "metadata": {},
   "source": [
    "# Bibliotheken"
   ]
  },
  {
   "cell_type": "code",
   "execution_count": 1,
   "metadata": {},
   "outputs": [],
   "source": [
    "import pandas as pd\n",
    "import numpy as np\n",
    "from sklearn.model_selection import train_test_split\n",
    "import missingno as msno\n",
    "from sklearn.base import BaseEstimator, TransformerMixin\n",
    "from pipe_tools.pipe_visualizer import plot_pipeline"
   ]
  },
  {
   "cell_type": "markdown",
   "metadata": {},
   "source": [
    "# Daten Laden"
   ]
  },
  {
   "cell_type": "code",
   "execution_count": 2,
   "metadata": {},
   "outputs": [],
   "source": [
    "labelList=['symboling','normalizedLosses','make','fuelType','aspiration','numOfDoors','bodyStyle','driveWheels','engineLocation',\n",
    "           'wheelBase','length','width','height','curbWeight','engineType','numOfCylinders','engineSize','fuelSystem','bore',\n",
    "           'stroke','compressionRatio','horsepower','peakRpm','cityMpg','highwayMpg','price']\n",
    "df = pd.read_csv('../data/data_car-CopyForEDA.csv',delimiter=',',encoding='utf-8', names=labelList)\n",
    "# Datentypen umwandeln & ? durch np.NAN ersetzen\n",
    "df = df.replace(\"?\", np.nan)\n",
    "df[['normalizedLosses']]=df[['normalizedLosses']].astype('category')\n",
    "df[['price']]=df[['price']].astype('float64')\n",
    "df[['horsepower']]=df[['horsepower']].astype('float64')\n",
    "df[['peakRpm']]=df[['peakRpm']].astype('float64')\n",
    "df[['bore']]=df[['bore']].astype('float64')\n",
    "df[['stroke']]=df[['stroke']].astype('float64')\n",
    "df[['engineSize']]=df[['engineSize']].astype('float64')\n",
    "df[['cityMpg']]=df[['cityMpg']].astype('float64')\n",
    "df[['highwayMpg']]=df[['highwayMpg']].astype('float64')\n",
    "df[['curbWeight']]=df[['curbWeight']].astype('float64')"
   ]
  },
  {
   "cell_type": "code",
   "execution_count": 3,
   "metadata": {},
   "outputs": [
    {
     "name": "stdout",
     "output_type": "stream",
     "text": [
      "<class 'pandas.core.frame.DataFrame'>\n",
      "RangeIndex: 205 entries, 0 to 204\n",
      "Data columns (total 26 columns):\n",
      "symboling           205 non-null int64\n",
      "normalizedLosses    164 non-null category\n",
      "make                205 non-null object\n",
      "fuelType            205 non-null object\n",
      "aspiration          205 non-null object\n",
      "numOfDoors          203 non-null object\n",
      "bodyStyle           205 non-null object\n",
      "driveWheels         205 non-null object\n",
      "engineLocation      205 non-null object\n",
      "wheelBase           205 non-null float64\n",
      "length              205 non-null float64\n",
      "width               205 non-null float64\n",
      "height              205 non-null float64\n",
      "curbWeight          205 non-null float64\n",
      "engineType          205 non-null object\n",
      "numOfCylinders      205 non-null object\n",
      "engineSize          205 non-null float64\n",
      "fuelSystem          205 non-null object\n",
      "bore                201 non-null float64\n",
      "stroke              201 non-null float64\n",
      "compressionRatio    205 non-null float64\n",
      "horsepower          203 non-null float64\n",
      "peakRpm             203 non-null float64\n",
      "cityMpg             205 non-null float64\n",
      "highwayMpg          205 non-null float64\n",
      "price               201 non-null float64\n",
      "dtypes: category(1), float64(14), int64(1), object(10)\n",
      "memory usage: 43.3+ KB\n"
     ]
    }
   ],
   "source": [
    "df.info()"
   ]
  },
  {
   "cell_type": "code",
   "execution_count": 4,
   "metadata": {},
   "outputs": [
    {
     "data": {
      "text/plain": [
       "array([[0., 1.],\n",
       "       [0., 1.],\n",
       "       [0., 1.],\n",
       "       [0., 1.],\n",
       "       [0., 1.],\n",
       "       [0., 1.],\n",
       "       [0., 1.],\n",
       "       [0., 1.],\n",
       "       [0., 1.],\n",
       "       [0., 1.],\n",
       "       [0., 1.],\n",
       "       [0., 1.],\n",
       "       [0., 1.],\n",
       "       [0., 1.],\n",
       "       [0., 1.],\n",
       "       [0., 1.],\n",
       "       [0., 1.],\n",
       "       [0., 1.],\n",
       "       [0., 1.],\n",
       "       [0., 1.],\n",
       "       [0., 1.],\n",
       "       [0., 1.],\n",
       "       [0., 1.],\n",
       "       [0., 1.],\n",
       "       [0., 1.],\n",
       "       [0., 1.],\n",
       "       [0., 1.],\n",
       "       [0., 1.],\n",
       "       [0., 1.],\n",
       "       [0., 1.],\n",
       "       [0., 1.],\n",
       "       [0., 1.],\n",
       "       [0., 1.],\n",
       "       [0., 1.],\n",
       "       [0., 1.],\n",
       "       [0., 1.],\n",
       "       [0., 1.],\n",
       "       [0., 1.],\n",
       "       [0., 1.],\n",
       "       [0., 1.],\n",
       "       [0., 1.],\n",
       "       [0., 1.],\n",
       "       [0., 1.],\n",
       "       [0., 1.],\n",
       "       [0., 1.],\n",
       "       [0., 1.],\n",
       "       [0., 1.],\n",
       "       [0., 1.],\n",
       "       [0., 1.],\n",
       "       [0., 1.],\n",
       "       [0., 1.],\n",
       "       [0., 1.],\n",
       "       [0., 1.],\n",
       "       [0., 1.],\n",
       "       [0., 1.],\n",
       "       [0., 1.],\n",
       "       [0., 1.],\n",
       "       [0., 1.],\n",
       "       [0., 1.],\n",
       "       [0., 1.],\n",
       "       [0., 1.],\n",
       "       [0., 1.],\n",
       "       [0., 1.],\n",
       "       [1., 0.],\n",
       "       [0., 1.],\n",
       "       [0., 1.],\n",
       "       [1., 0.],\n",
       "       [1., 0.],\n",
       "       [1., 0.],\n",
       "       [1., 0.],\n",
       "       [1., 0.],\n",
       "       [0., 1.],\n",
       "       [0., 1.],\n",
       "       [0., 1.],\n",
       "       [0., 1.],\n",
       "       [0., 1.],\n",
       "       [0., 1.],\n",
       "       [0., 1.],\n",
       "       [0., 1.],\n",
       "       [0., 1.],\n",
       "       [0., 1.],\n",
       "       [0., 1.],\n",
       "       [0., 1.],\n",
       "       [0., 1.],\n",
       "       [0., 1.],\n",
       "       [0., 1.],\n",
       "       [0., 1.],\n",
       "       [0., 1.],\n",
       "       [0., 1.],\n",
       "       [0., 1.],\n",
       "       [1., 0.],\n",
       "       [0., 1.],\n",
       "       [0., 1.],\n",
       "       [0., 1.],\n",
       "       [0., 1.],\n",
       "       [0., 1.],\n",
       "       [0., 1.],\n",
       "       [0., 1.],\n",
       "       [0., 1.],\n",
       "       [0., 1.],\n",
       "       [0., 1.],\n",
       "       [0., 1.],\n",
       "       [0., 1.],\n",
       "       [0., 1.],\n",
       "       [0., 1.],\n",
       "       [0., 1.],\n",
       "       [0., 1.],\n",
       "       [0., 1.],\n",
       "       [1., 0.],\n",
       "       [0., 1.],\n",
       "       [1., 0.],\n",
       "       [0., 1.],\n",
       "       [1., 0.],\n",
       "       [0., 1.],\n",
       "       [1., 0.],\n",
       "       [0., 1.],\n",
       "       [1., 0.],\n",
       "       [0., 1.],\n",
       "       [0., 1.],\n",
       "       [0., 1.],\n",
       "       [0., 1.],\n",
       "       [0., 1.],\n",
       "       [0., 1.],\n",
       "       [0., 1.],\n",
       "       [0., 1.],\n",
       "       [0., 1.],\n",
       "       [0., 1.],\n",
       "       [0., 1.],\n",
       "       [0., 1.],\n",
       "       [0., 1.],\n",
       "       [0., 1.],\n",
       "       [0., 1.],\n",
       "       [0., 1.],\n",
       "       [0., 1.],\n",
       "       [0., 1.],\n",
       "       [0., 1.],\n",
       "       [0., 1.],\n",
       "       [0., 1.],\n",
       "       [0., 1.],\n",
       "       [0., 1.],\n",
       "       [0., 1.],\n",
       "       [0., 1.],\n",
       "       [0., 1.],\n",
       "       [0., 1.],\n",
       "       [0., 1.],\n",
       "       [0., 1.],\n",
       "       [0., 1.],\n",
       "       [0., 1.],\n",
       "       [0., 1.],\n",
       "       [0., 1.],\n",
       "       [0., 1.],\n",
       "       [0., 1.],\n",
       "       [0., 1.],\n",
       "       [0., 1.],\n",
       "       [0., 1.],\n",
       "       [0., 1.],\n",
       "       [0., 1.],\n",
       "       [0., 1.],\n",
       "       [1., 0.],\n",
       "       [1., 0.],\n",
       "       [0., 1.],\n",
       "       [0., 1.],\n",
       "       [0., 1.],\n",
       "       [0., 1.],\n",
       "       [0., 1.],\n",
       "       [0., 1.],\n",
       "       [0., 1.],\n",
       "       [0., 1.],\n",
       "       [0., 1.],\n",
       "       [0., 1.],\n",
       "       [0., 1.],\n",
       "       [0., 1.],\n",
       "       [0., 1.],\n",
       "       [0., 1.],\n",
       "       [1., 0.],\n",
       "       [0., 1.],\n",
       "       [0., 1.],\n",
       "       [0., 1.],\n",
       "       [0., 1.],\n",
       "       [0., 1.],\n",
       "       [0., 1.],\n",
       "       [0., 1.],\n",
       "       [1., 0.],\n",
       "       [0., 1.],\n",
       "       [1., 0.],\n",
       "       [0., 1.],\n",
       "       [0., 1.],\n",
       "       [1., 0.],\n",
       "       [0., 1.],\n",
       "       [0., 1.],\n",
       "       [0., 1.],\n",
       "       [0., 1.],\n",
       "       [1., 0.],\n",
       "       [0., 1.],\n",
       "       [0., 1.],\n",
       "       [0., 1.],\n",
       "       [0., 1.],\n",
       "       [0., 1.],\n",
       "       [0., 1.],\n",
       "       [0., 1.],\n",
       "       [0., 1.],\n",
       "       [0., 1.],\n",
       "       [0., 1.],\n",
       "       [1., 0.],\n",
       "       [0., 1.]])"
      ]
     },
     "execution_count": 4,
     "metadata": {},
     "output_type": "execute_result"
    }
   ],
   "source": [
    "#Tests /DummyEncoding\n",
    "from sklearn.preprocessing import OneHotEncoder\n",
    "ohe = OneHotEncoder(sparse=False)\n",
    "ohe.fit_transform(df[['make']])\n",
    "ohe.fit_transform(df[['fuelType']])"
   ]
  },
  {
   "cell_type": "code",
   "execution_count": 5,
   "metadata": {},
   "outputs": [
    {
     "data": {
      "text/plain": [
       "<matplotlib.axes._subplots.AxesSubplot at 0x2075caa5748>"
      ]
     },
     "execution_count": 5,
     "metadata": {},
     "output_type": "execute_result"
    },
    {
     "data": {
      "image/png": "[encoded data removed]",
      "text/plain": [
       "<Figure size 1800x720 with 2 Axes>"
      ]
     },
     "metadata": {
      "needs_background": "light"
     },
     "output_type": "display_data"
    }
   ],
   "source": [
    "# show all nan-Values\n",
    "msno.matrix(df)"
   ]
  },
  {
   "cell_type": "markdown",
   "metadata": {},
   "source": [
    "# horizontaler und vertikaler Cut"
   ]
  },
  {
   "cell_type": "code",
   "execution_count": 6,
   "metadata": {},
   "outputs": [
    {
     "data": {
      "text/plain": [
       "((164, 25), (41, 25), (164, 1), (41, 1))"
      ]
     },
     "execution_count": 6,
     "metadata": {},
     "output_type": "execute_result"
    }
   ],
   "source": [
    "output_features = [\n",
    "    \"symboling\"\n",
    "]\n",
    "\n",
    "input_features = [\n",
    "    'normalizedLosses',\n",
    "    'make',\n",
    "    'fuelType',\n",
    "    'aspiration',\n",
    "    'numOfDoors',\n",
    "    'bodyStyle',\n",
    "    'driveWheels',\n",
    "    'engineLocation',\n",
    "    'wheelBase',\n",
    "    'length',\n",
    "    'width',\n",
    "    'height',\n",
    "    'curbWeight',\n",
    "    'engineType',\n",
    "    'numOfCylinders',\n",
    "    'engineSize',\n",
    "    'fuelSystem',\n",
    "    'bore',\n",
    "    'stroke',\n",
    "    'compressionRatio',\n",
    "    'horsepower',\n",
    "    'peakRpm',\n",
    "    'cityMpg',\n",
    "    'highwayMpg',\n",
    "    'price'\n",
    "]\n",
    "\n",
    "train_X, test_X, train_y, test_y = train_test_split(\n",
    "    df[input_features], \n",
    "    df[output_features],\n",
    "    test_size=0.2\n",
    ")\n",
    "train_X.shape, test_X.shape, train_y.shape, test_y.shape"
   ]
  },
  {
   "cell_type": "markdown",
   "metadata": {},
   "source": [
    "# Helper-Function"
   ]
  },
  {
   "cell_type": "code",
   "execution_count": 7,
   "metadata": {},
   "outputs": [],
   "source": [
    "def debug_print(X, debug):\n",
    "    \"\"\"This method prints some debug information based on a debug parameter.\"\"\"\n",
    "    if not debug in [\"input\", \"shape\", \"columns\", False]:\n",
    "        raise ValueError(\"Debug parameter value is not valied.\")\n",
    "    elif debug==\"input\":\n",
    "        print(X.head(5))\n",
    "    elif debug==\"shape\":\n",
    "        print(X.shape)\n",
    "    elif debug==\"columns\":\n",
    "        print(X.columns)\n",
    "    elif debug is False:\n",
    "        pass"
   ]
  },
  {
   "cell_type": "markdown",
   "metadata": {},
   "source": [
    "# Selectoren"
   ]
  },
  {
   "cell_type": "markdown",
   "metadata": {},
   "source": [
    "## Column-Selector"
   ]
  },
  {
   "cell_type": "code",
   "execution_count": 8,
   "metadata": {},
   "outputs": [],
   "source": [
    "from sklearn.pipeline import Pipeline\n",
    "class ColumnSelector(BaseEstimator, TransformerMixin):\n",
    "    def __init__(self, columns):\n",
    "        self.columns = columns\n",
    "\n",
    "    def fit(self, X, y=None):\n",
    "        return self\n",
    "\n",
    "    def transform(self, X):\n",
    "        assert isinstance(X, pd.DataFrame)\n",
    "\n",
    "        try:\n",
    "            return X[self.columns]\n",
    "        except KeyError:\n",
    "            cols_error = list(set(self.columns) - set(X.columns))\n",
    "            raise KeyError(\"The DataFrame does not include the columns: %s\" % cols_error)"
   ]
  },
  {
   "cell_type": "raw",
   "metadata": {},
   "source": [
    "# Test\n",
    "cs = ColumnSelector(columns=[\"make\", \"normalizedLosses\"])\n",
    "cs.fit_transform(df).head()\n",
    "cs.fit_transform(test_X).head()"
   ]
  },
  {
   "cell_type": "code",
   "execution_count": 9,
   "metadata": {},
   "outputs": [
    {
     "name": "stdout",
     "output_type": "stream",
     "text": [
      "[1, 2, 3, 5]\n"
     ]
    }
   ],
   "source": [
    "a = [1,2]\n",
    "b = [3,5]\n",
    "c = a+b\n",
    "print(c)"
   ]
  },
  {
   "cell_type": "markdown",
   "metadata": {},
   "source": [
    "## Type-Selector"
   ]
  },
  {
   "cell_type": "code",
   "execution_count": 10,
   "metadata": {},
   "outputs": [],
   "source": [
    "class TypeSelector(BaseEstimator, TransformerMixin):\n",
    "    def __init__(self, dtype):\n",
    "        self.dtype = dtype\n",
    "\n",
    "    def fit(self, X, y=None):\n",
    "        return self\n",
    "\n",
    "    def transform(self, X):\n",
    "        assert isinstance(X, pd.DataFrame)\n",
    "        return X.select_dtypes(include=[self.dtype])"
   ]
  },
  {
   "cell_type": "code",
   "execution_count": 11,
   "metadata": {},
   "outputs": [
    {
     "name": "stdout",
     "output_type": "stream",
     "text": [
      "<class '__main__.TypeSelector'>\n"
     ]
    },
    {
     "data": {
      "text/html": [
       "<div>\n",
       "<style scoped>\n",
       "    .dataframe tbody tr th:only-of-type {\n",
       "        vertical-align: middle;\n",
       "    }\n",
       "\n",
       "    .dataframe tbody tr th {\n",
       "        vertical-align: top;\n",
       "    }\n",
       "\n",
       "    .dataframe thead th {\n",
       "        text-align: right;\n",
       "    }\n",
       "</style>\n",
       "<table border=\"1\" class=\"dataframe\">\n",
       "  <thead>\n",
       "    <tr style=\"text-align: right;\">\n",
       "      <th></th>\n",
       "      <th>make</th>\n",
       "      <th>fuelType</th>\n",
       "      <th>aspiration</th>\n",
       "      <th>numOfDoors</th>\n",
       "      <th>bodyStyle</th>\n",
       "      <th>driveWheels</th>\n",
       "      <th>engineLocation</th>\n",
       "      <th>engineType</th>\n",
       "      <th>numOfCylinders</th>\n",
       "      <th>fuelSystem</th>\n",
       "    </tr>\n",
       "  </thead>\n",
       "  <tbody>\n",
       "    <tr>\n",
       "      <th>37</th>\n",
       "      <td>honda</td>\n",
       "      <td>gas</td>\n",
       "      <td>std</td>\n",
       "      <td>two</td>\n",
       "      <td>hatchback</td>\n",
       "      <td>fwd</td>\n",
       "      <td>front</td>\n",
       "      <td>ohc</td>\n",
       "      <td>four</td>\n",
       "      <td>1bbl</td>\n",
       "    </tr>\n",
       "    <tr>\n",
       "      <th>107</th>\n",
       "      <td>peugot</td>\n",
       "      <td>gas</td>\n",
       "      <td>std</td>\n",
       "      <td>four</td>\n",
       "      <td>sedan</td>\n",
       "      <td>rwd</td>\n",
       "      <td>front</td>\n",
       "      <td>l</td>\n",
       "      <td>four</td>\n",
       "      <td>mpfi</td>\n",
       "    </tr>\n",
       "    <tr>\n",
       "      <th>85</th>\n",
       "      <td>mitsubishi</td>\n",
       "      <td>gas</td>\n",
       "      <td>std</td>\n",
       "      <td>four</td>\n",
       "      <td>sedan</td>\n",
       "      <td>fwd</td>\n",
       "      <td>front</td>\n",
       "      <td>ohc</td>\n",
       "      <td>four</td>\n",
       "      <td>2bbl</td>\n",
       "    </tr>\n",
       "    <tr>\n",
       "      <th>57</th>\n",
       "      <td>mazda</td>\n",
       "      <td>gas</td>\n",
       "      <td>std</td>\n",
       "      <td>two</td>\n",
       "      <td>hatchback</td>\n",
       "      <td>rwd</td>\n",
       "      <td>front</td>\n",
       "      <td>rotor</td>\n",
       "      <td>two</td>\n",
       "      <td>4bbl</td>\n",
       "    </tr>\n",
       "    <tr>\n",
       "      <th>122</th>\n",
       "      <td>plymouth</td>\n",
       "      <td>gas</td>\n",
       "      <td>std</td>\n",
       "      <td>four</td>\n",
       "      <td>sedan</td>\n",
       "      <td>fwd</td>\n",
       "      <td>front</td>\n",
       "      <td>ohc</td>\n",
       "      <td>four</td>\n",
       "      <td>2bbl</td>\n",
       "    </tr>\n",
       "  </tbody>\n",
       "</table>\n",
       "</div>"
      ],
      "text/plain": [
       "           make fuelType aspiration numOfDoors  bodyStyle driveWheels  \\\n",
       "37        honda      gas        std        two  hatchback         fwd   \n",
       "107      peugot      gas        std       four      sedan         rwd   \n",
       "85   mitsubishi      gas        std       four      sedan         fwd   \n",
       "57        mazda      gas        std        two  hatchback         rwd   \n",
       "122    plymouth      gas        std       four      sedan         fwd   \n",
       "\n",
       "    engineLocation engineType numOfCylinders fuelSystem  \n",
       "37           front        ohc           four       1bbl  \n",
       "107          front          l           four       mpfi  \n",
       "85           front        ohc           four       2bbl  \n",
       "57           front      rotor            two       4bbl  \n",
       "122          front        ohc           four       2bbl  "
      ]
     },
     "execution_count": 11,
     "metadata": {},
     "output_type": "execute_result"
    }
   ],
   "source": [
    "#test\n",
    "ts = TypeSelector(\"object\")\n",
    "print(type(ts))\n",
    "ts.fit_transform(test_X).head()"
   ]
  },
  {
   "cell_type": "code",
   "execution_count": 12,
   "metadata": {},
   "outputs": [],
   "source": [
    "# Custom Estimatoren"
   ]
  },
  {
   "cell_type": "code",
   "execution_count": 13,
   "metadata": {},
   "outputs": [],
   "source": [
    "class PriceImputer():\n",
    "    \"\"\"Imputs Price with median price of car-Brand.\"\"\"\n",
    "\n",
    "    def __init__(self, debug=False):\n",
    "        self.d = debug\n",
    "        self.colnames = None\n",
    "    \n",
    "    def fit(self, X, y=None):\n",
    "        return self\n",
    "    \n",
    "    def transform(self, X):\n",
    "        df.price = df.groupby(['make'])['price'].apply(lambda x: x.fillna(x.median()))\n",
    "        self.colnames = df.columns.tolist()\n",
    "        return df\n",
    "    \n",
    "    def get_feature_names(self):\n",
    "        return self.colnames "
   ]
  },
  {
   "cell_type": "code",
   "execution_count": 14,
   "metadata": {},
   "outputs": [],
   "source": [
    "class numOfDoorsImputer():\n",
    "    \n",
    "    \"\"\"Imputs numOfDoor with modus of body-Style.\"\"\"\n",
    "    def __init__(self, debug=False):\n",
    "        self.d = debug\n",
    "        self.colnames = None\n",
    "    \n",
    "    def fit(self, X, y=None):\n",
    "        return self\n",
    "    \n",
    "    def transform(self, X):\n",
    "        debug_print(X=X, debug=self.d)\n",
    "        #df = X.copy()\n",
    "\n",
    "        df.numOfDoors = df.groupby(['bodyStyle'])['numOfDoors'].apply(lambda x: x.fillna(x.mode().iloc[0]))\n",
    "        self.colnames = df.columns.tolist()\n",
    "        return df\n",
    "    \n",
    "    def get_feature_names(self):\n",
    "        return self.colnames "
   ]
  },
  {
   "cell_type": "code",
   "execution_count": 33,
   "metadata": {},
   "outputs": [],
   "source": [
    "class OHE():\n",
    "    \"\"\"Imputs Price with median price of car-Brand.\"\"\"\n",
    "\n",
    "    def __init__(self, debug=False):\n",
    "        self.d = debug\n",
    "        self.colnames = None\n",
    "    \n",
    "    def fit(self, X, y=None):\n",
    "        return self\n",
    "    \n",
    "    def transform(self, X):\n",
    "        interimLabelListdf = X.select_dtypes(include='object')\n",
    "        interimLabelList = list(interimLabelListdf.columns)\n",
    "        print(type(interimLabelList))\n",
    "        print(interimLabelList)\n",
    "        \n",
    "        \n",
    "        ohe = OneHotEncoder(sparse=False)\n",
    "        #print(X.info())\n",
    "        npArray = ohe.fit_transform(X[interimLabelList])\n",
    "        #print(npArray.shape)\n",
    "        #print(ohe.categories_)\n",
    "        #print(type(ohe.categories_))\n",
    "        titles = []\n",
    "        for singleList in ohe.categories_:\n",
    "            titles = titles + list(singleList)\n",
    "        interimDF = pd.DataFrame(data = npArray, columns=titles)\n",
    "        \n",
    "        df = pd.concat([X, interimDF], axis=1, sort=False)\n",
    "        print(df)\n",
    "        return df\n",
    "    \n",
    "    def get_feature_names(self):\n",
    "        return self.colnames "
   ]
  },
  {
   "cell_type": "code",
   "execution_count": 34,
   "metadata": {},
   "outputs": [
    {
     "data": {
      "text/plain": [
       "['make',\n",
       " 'fuelType',\n",
       " 'aspiration',\n",
       " 'numOfDoors',\n",
       " 'bodyStyle',\n",
       " 'driveWheels',\n",
       " 'engineLocation',\n",
       " 'engineType',\n",
       " 'numOfCylinders',\n",
       " 'fuelSystem']"
      ]
     },
     "execution_count": 34,
     "metadata": {},
     "output_type": "execute_result"
    }
   ],
   "source": [
    "interimLabelList = df.select_dtypes(include='object')\n",
    "list(interimLabelList.columns)"
   ]
  },
  {
   "cell_type": "code",
   "execution_count": 35,
   "metadata": {},
   "outputs": [
    {
     "data": {
      "text/plain": [
       "[array(['alfa-romero', 'audi', 'bmw', 'chevrolet', 'dodge', 'honda',\n",
       "        'isuzu', 'jaguar', 'mazda', 'mercedes-benz', 'mercury',\n",
       "        'mitsubishi', 'nissan', 'peugot', 'plymouth', 'porsche', 'renault',\n",
       "        'saab', 'subaru', 'toyota', 'volkswagen', 'volvo'], dtype=object),\n",
       " array(['dohc', 'dohcv', 'l', 'ohc', 'ohcf', 'ohcv', 'rotor'], dtype=object)]"
      ]
     },
     "execution_count": 35,
     "metadata": {},
     "output_type": "execute_result"
    }
   ],
   "source": [
    "from sklearn.preprocessing import OneHotEncoder\n",
    "ohe = OneHotEncoder(sparse=False)\n",
    "ohe.fit_transform(df[['make','engineType']])\n",
    "ohe.categories_"
   ]
  },
  {
   "cell_type": "markdown",
   "metadata": {},
   "source": [
    "# Pipeline"
   ]
  },
  {
   "cell_type": "raw",
   "metadata": {},
   "source": [
    "(\"feature_union\", \n",
    "            FeatureUnion(\n",
    "                [\n",
    "                    (\"numeric_features\", make_pipeline(\n",
    "                        #TypeSelector(np.number),\n",
    "                        ColumnSelector(columns=[\"price\"]),\n",
    "                        StandardScaler()\n",
    "                    )),\n",
    "                    (\"categorical_features\", make_pipeline(\n",
    "                        #TypeSelector(\"category\"),\n",
    "                        ColumnSelector(columns=[\"make\"]),\n",
    "                        LabelEncoder(),\n",
    "                        OneHotEncoder()\n",
    "                    ))\n",
    "                    \n",
    "                ]\n",
    "            )\n",
    "       )"
   ]
  },
  {
   "cell_type": "code",
   "execution_count": 36,
   "metadata": {},
   "outputs": [],
   "source": [
    "from sklearn.pipeline import Pipeline\n",
    "\n",
    "class FeaturePipeline(Pipeline):\n",
    "    def get_feature_names(self):\n",
    "        return self.steps[-1][1].get_feature_names()"
   ]
  },
  {
   "cell_type": "code",
   "execution_count": 37,
   "metadata": {},
   "outputs": [],
   "source": [
    "from sklearn.pipeline import Pipeline, FeatureUnion\n",
    "from sklearn.preprocessing import RobustScaler, OneHotEncoder\n",
    "from sklearn.impute import SimpleImputer\n",
    "from sklearn.pipeline import make_pipeline, FeatureUnion, Pipeline\n",
    "from sklearn.preprocessing import OneHotEncoder, StandardScaler\n",
    "\n",
    "debug_state = False\n",
    "\n",
    "pipe = FeaturePipeline(\n",
    "    [\n",
    "\n",
    "        (\"price_imputation\", PriceImputer(debug=False)),\n",
    "        (\"numOfDoors_imputation\", numOfDoorsImputer(debug=False)),\n",
    "        (\"OHE\", OHE(debug=False))\n",
    "        \n",
    "    ]\n",
    ")"
   ]
  },
  {
   "cell_type": "code",
   "execution_count": 38,
   "metadata": {},
   "outputs": [],
   "source": [
    "#train_X = train_X.drop(['normalizedLosses'], axis=1)"
   ]
  },
  {
   "cell_type": "code",
   "execution_count": 39,
   "metadata": {
    "scrolled": true
   },
   "outputs": [
    {
     "data": {
      "image/png": "[encoded data removed]",
      "text/plain": [
       "<Figure size 1080x720 with 1 Axes>"
      ]
     },
     "metadata": {},
     "output_type": "display_data"
    }
   ],
   "source": [
    "plot_pipeline(pipe, \"pipeline_plot.png\")"
   ]
  },
  {
   "cell_type": "code",
   "execution_count": 40,
   "metadata": {},
   "outputs": [
    {
     "name": "stdout",
     "output_type": "stream",
     "text": [
      "<class 'list'>\n",
      "['make', 'fuelType', 'aspiration', 'numOfDoors', 'bodyStyle', 'driveWheels', 'engineLocation', 'engineType', 'numOfCylinders', 'fuelSystem']\n",
      "     symboling normalizedLosses         make fuelType aspiration numOfDoors  \\\n",
      "0            3              NaN  alfa-romero      gas        std        two   \n",
      "1            3              NaN  alfa-romero      gas        std        two   \n",
      "2            1              NaN  alfa-romero      gas        std        two   \n",
      "3            2              164         audi      gas        std       four   \n",
      "4            2              164         audi      gas        std       four   \n",
      "..         ...              ...          ...      ...        ...        ...   \n",
      "200         -1               95        volvo      gas        std       four   \n",
      "201         -1               95        volvo      gas      turbo       four   \n",
      "202         -1               95        volvo      gas        std       four   \n",
      "203         -1               95        volvo   diesel      turbo       four   \n",
      "204         -1               95        volvo      gas      turbo       four   \n",
      "\n",
      "       bodyStyle driveWheels engineLocation  wheelBase  ...  twelve  two  \\\n",
      "0    convertible         rwd          front       88.6  ...     0.0  0.0   \n",
      "1    convertible         rwd          front       88.6  ...     0.0  0.0   \n",
      "2      hatchback         rwd          front       94.5  ...     0.0  0.0   \n",
      "3          sedan         fwd          front       99.8  ...     0.0  0.0   \n",
      "4          sedan         4wd          front       99.4  ...     0.0  0.0   \n",
      "..           ...         ...            ...        ...  ...     ...  ...   \n",
      "200        sedan         rwd          front      109.1  ...     0.0  0.0   \n",
      "201        sedan         rwd          front      109.1  ...     0.0  0.0   \n",
      "202        sedan         rwd          front      109.1  ...     0.0  0.0   \n",
      "203        sedan         rwd          front      109.1  ...     0.0  0.0   \n",
      "204        sedan         rwd          front      109.1  ...     0.0  0.0   \n",
      "\n",
      "     1bbl  2bbl 4bbl  idi  mfi mpfi  spdi  spfi  \n",
      "0     0.0   0.0  0.0  0.0  0.0  1.0   0.0   0.0  \n",
      "1     0.0   0.0  0.0  0.0  0.0  1.0   0.0   0.0  \n",
      "2     0.0   0.0  0.0  0.0  0.0  1.0   0.0   0.0  \n",
      "3     0.0   0.0  0.0  0.0  0.0  1.0   0.0   0.0  \n",
      "4     0.0   0.0  0.0  0.0  0.0  1.0   0.0   0.0  \n",
      "..    ...   ...  ...  ...  ...  ...   ...   ...  \n",
      "200   0.0   0.0  0.0  0.0  0.0  1.0   0.0   0.0  \n",
      "201   0.0   0.0  0.0  0.0  0.0  1.0   0.0   0.0  \n",
      "202   0.0   0.0  0.0  0.0  0.0  1.0   0.0   0.0  \n",
      "203   0.0   0.0  0.0  1.0  0.0  0.0   0.0   0.0  \n",
      "204   0.0   0.0  0.0  0.0  0.0  1.0   0.0   0.0  \n",
      "\n",
      "[205 rows x 86 columns]\n"
     ]
    }
   ],
   "source": [
    "#print(train_X_prepared.isna().any())\n",
    "train_X_prepared = pipe.fit(train_X)\n",
    "train_X_prepared = pipe.transform(train_X)\n",
    "\n",
    "#np.savetxt(\"foo.csv\", train_X, delimiter=\",\")"
   ]
  },
  {
   "cell_type": "code",
   "execution_count": 42,
   "metadata": {},
   "outputs": [],
   "source": [
    "preparedDataFrame = pd.DataFrame(train_X_prepared)\n",
    "preparedDataFrame.to_csv(r'test.csv')"
   ]
  },
  {
   "cell_type": "code",
   "execution_count": null,
   "metadata": {},
   "outputs": [],
   "source": []
  },
  {
   "cell_type": "code",
   "execution_count": null,
   "metadata": {},
   "outputs": [],
   "source": []
  },
  {
   "cell_type": "code",
   "execution_count": null,
   "metadata": {},
   "outputs": [],
   "source": []
  }
 ],
 "metadata": {
  "kernelspec": {
   "display_name": "Python 3",
   "language": "python",
   "name": "python3"
  },
  "language_info": {
   "codemirror_mode": {
    "name": "ipython",
    "version": 3
   },
   "file_extension": ".py",
   "mimetype": "text/x-python",
   "name": "python",
   "nbconvert_exporter": "python",
   "pygments_lexer": "ipython3",
   "version": "3.6.9"
  }
 },
 "nbformat": 4,
 "nbformat_minor": 2
}
