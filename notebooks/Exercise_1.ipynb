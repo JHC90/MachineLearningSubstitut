{
 "cells": [
  {
   "cell_type": "markdown",
   "metadata": {},
   "source": [
    "# Aufgabe 1\n",
    "Verwendet in diesem Teil des Übungsblatts das Datenset um (mindestens) zwei Modelle zu entwickeln, um das\n",
    "Versicherungsrisiko (insurance risk) von Fahrzeugen zu schätzen. Verwendet dazu zwei unterschiedliche\n",
    "Regressionsansätze aus dem Repertoire von sklearn und dokumentiert euer vorgehen. Achtet dabei auf eine\n",
    "saubere Trennung von Trainings- und Testdaten. Interpretiert anschließend eure Ergebnisse/Scores."
   ]
  },
  {
   "cell_type": "markdown",
   "metadata": {},
   "source": [
    "## Bibliotheken"
   ]
  },
  {
   "cell_type": "code",
   "execution_count": 1,
   "metadata": {},
   "outputs": [],
   "source": [
    "import pandas as pd\n",
    "from sklearn.model_selection import train_test_split\n"
   ]
  },
  {
   "cell_type": "markdown",
   "metadata": {},
   "source": [
    "# Data-Loading\n",
    "Die Daten wurden als gesamtes in dem Data-Preparation Notebook vorverarbeitet. Diese Vorverarbeiteten Daten werden nun hier geladen und entsprechend nach der jweiligen Output-Variable gesplitet."
   ]
  },
  {
   "cell_type": "code",
   "execution_count": 2,
   "metadata": {},
   "outputs": [],
   "source": [
    "df = pd.read_csv('../data/reg_df_prepared.csv',delimiter=',',encoding='utf-8', index_col=[0])\n",
    "#df.info() # => Ausschließlich float64 // symboling = insurance risk = position 0"
   ]
  },
  {
   "cell_type": "code",
   "execution_count": 22,
   "metadata": {},
   "outputs": [
    {
     "data": {
      "text/html": [
       "<div>\n",
       "<style scoped>\n",
       "    .dataframe tbody tr th:only-of-type {\n",
       "        vertical-align: middle;\n",
       "    }\n",
       "\n",
       "    .dataframe tbody tr th {\n",
       "        vertical-align: top;\n",
       "    }\n",
       "\n",
       "    .dataframe thead th {\n",
       "        text-align: right;\n",
       "    }\n",
       "</style>\n",
       "<table border=\"1\" class=\"dataframe\">\n",
       "  <thead>\n",
       "    <tr style=\"text-align: right;\">\n",
       "      <th></th>\n",
       "      <th>symboling</th>\n",
       "      <th>normalizedLosses</th>\n",
       "      <th>wheelBase</th>\n",
       "      <th>length</th>\n",
       "      <th>width</th>\n",
       "      <th>height</th>\n",
       "      <th>curbWeight</th>\n",
       "      <th>engineSize</th>\n",
       "      <th>bore</th>\n",
       "      <th>stroke</th>\n",
       "      <th>...</th>\n",
       "      <th>twelve</th>\n",
       "      <th>two.1</th>\n",
       "      <th>1bbl</th>\n",
       "      <th>2bbl</th>\n",
       "      <th>4bbl</th>\n",
       "      <th>idi</th>\n",
       "      <th>mfi</th>\n",
       "      <th>mpfi</th>\n",
       "      <th>spdi</th>\n",
       "      <th>spfi</th>\n",
       "    </tr>\n",
       "  </thead>\n",
       "  <tbody>\n",
       "    <tr>\n",
       "      <th>0</th>\n",
       "      <td>3.0</td>\n",
       "      <td>189.409526</td>\n",
       "      <td>88.6</td>\n",
       "      <td>168.8</td>\n",
       "      <td>64.1</td>\n",
       "      <td>48.8</td>\n",
       "      <td>2548.0</td>\n",
       "      <td>130.0</td>\n",
       "      <td>3.47</td>\n",
       "      <td>2.68</td>\n",
       "      <td>...</td>\n",
       "      <td>0.0</td>\n",
       "      <td>0.0</td>\n",
       "      <td>0.0</td>\n",
       "      <td>0.0</td>\n",
       "      <td>0.0</td>\n",
       "      <td>0.0</td>\n",
       "      <td>0.0</td>\n",
       "      <td>1.0</td>\n",
       "      <td>0.0</td>\n",
       "      <td>0.0</td>\n",
       "    </tr>\n",
       "    <tr>\n",
       "      <th>1</th>\n",
       "      <td>3.0</td>\n",
       "      <td>191.881529</td>\n",
       "      <td>88.6</td>\n",
       "      <td>168.8</td>\n",
       "      <td>64.1</td>\n",
       "      <td>48.8</td>\n",
       "      <td>2548.0</td>\n",
       "      <td>130.0</td>\n",
       "      <td>3.47</td>\n",
       "      <td>2.68</td>\n",
       "      <td>...</td>\n",
       "      <td>0.0</td>\n",
       "      <td>0.0</td>\n",
       "      <td>0.0</td>\n",
       "      <td>0.0</td>\n",
       "      <td>0.0</td>\n",
       "      <td>0.0</td>\n",
       "      <td>0.0</td>\n",
       "      <td>1.0</td>\n",
       "      <td>0.0</td>\n",
       "      <td>0.0</td>\n",
       "    </tr>\n",
       "    <tr>\n",
       "      <th>2</th>\n",
       "      <td>1.0</td>\n",
       "      <td>167.300466</td>\n",
       "      <td>94.5</td>\n",
       "      <td>171.2</td>\n",
       "      <td>65.5</td>\n",
       "      <td>52.4</td>\n",
       "      <td>2823.0</td>\n",
       "      <td>152.0</td>\n",
       "      <td>2.68</td>\n",
       "      <td>3.47</td>\n",
       "      <td>...</td>\n",
       "      <td>0.0</td>\n",
       "      <td>0.0</td>\n",
       "      <td>0.0</td>\n",
       "      <td>0.0</td>\n",
       "      <td>0.0</td>\n",
       "      <td>0.0</td>\n",
       "      <td>0.0</td>\n",
       "      <td>1.0</td>\n",
       "      <td>0.0</td>\n",
       "      <td>0.0</td>\n",
       "    </tr>\n",
       "    <tr>\n",
       "      <th>3</th>\n",
       "      <td>2.0</td>\n",
       "      <td>164.000000</td>\n",
       "      <td>99.8</td>\n",
       "      <td>176.6</td>\n",
       "      <td>66.2</td>\n",
       "      <td>54.3</td>\n",
       "      <td>2337.0</td>\n",
       "      <td>109.0</td>\n",
       "      <td>3.19</td>\n",
       "      <td>3.40</td>\n",
       "      <td>...</td>\n",
       "      <td>0.0</td>\n",
       "      <td>0.0</td>\n",
       "      <td>0.0</td>\n",
       "      <td>0.0</td>\n",
       "      <td>0.0</td>\n",
       "      <td>0.0</td>\n",
       "      <td>0.0</td>\n",
       "      <td>1.0</td>\n",
       "      <td>0.0</td>\n",
       "      <td>0.0</td>\n",
       "    </tr>\n",
       "    <tr>\n",
       "      <th>4</th>\n",
       "      <td>2.0</td>\n",
       "      <td>164.000000</td>\n",
       "      <td>99.4</td>\n",
       "      <td>176.6</td>\n",
       "      <td>66.4</td>\n",
       "      <td>54.3</td>\n",
       "      <td>2824.0</td>\n",
       "      <td>136.0</td>\n",
       "      <td>3.19</td>\n",
       "      <td>3.40</td>\n",
       "      <td>...</td>\n",
       "      <td>0.0</td>\n",
       "      <td>0.0</td>\n",
       "      <td>0.0</td>\n",
       "      <td>0.0</td>\n",
       "      <td>0.0</td>\n",
       "      <td>0.0</td>\n",
       "      <td>0.0</td>\n",
       "      <td>1.0</td>\n",
       "      <td>0.0</td>\n",
       "      <td>0.0</td>\n",
       "    </tr>\n",
       "  </tbody>\n",
       "</table>\n",
       "<p>5 rows × 76 columns</p>\n",
       "</div>"
      ],
      "text/plain": [
       "   symboling  normalizedLosses  wheelBase  length  width  height  curbWeight  \\\n",
       "0        3.0        189.409526       88.6   168.8   64.1    48.8      2548.0   \n",
       "1        3.0        191.881529       88.6   168.8   64.1    48.8      2548.0   \n",
       "2        1.0        167.300466       94.5   171.2   65.5    52.4      2823.0   \n",
       "3        2.0        164.000000       99.8   176.6   66.2    54.3      2337.0   \n",
       "4        2.0        164.000000       99.4   176.6   66.4    54.3      2824.0   \n",
       "\n",
       "   engineSize  bore  stroke  ...  twelve  two.1  1bbl  2bbl  4bbl  idi  mfi  \\\n",
       "0       130.0  3.47    2.68  ...     0.0    0.0   0.0   0.0   0.0  0.0  0.0   \n",
       "1       130.0  3.47    2.68  ...     0.0    0.0   0.0   0.0   0.0  0.0  0.0   \n",
       "2       152.0  2.68    3.47  ...     0.0    0.0   0.0   0.0   0.0  0.0  0.0   \n",
       "3       109.0  3.19    3.40  ...     0.0    0.0   0.0   0.0   0.0  0.0  0.0   \n",
       "4       136.0  3.19    3.40  ...     0.0    0.0   0.0   0.0   0.0  0.0  0.0   \n",
       "\n",
       "   mpfi  spdi  spfi  \n",
       "0   1.0   0.0   0.0  \n",
       "1   1.0   0.0   0.0  \n",
       "2   1.0   0.0   0.0  \n",
       "3   1.0   0.0   0.0  \n",
       "4   1.0   0.0   0.0  \n",
       "\n",
       "[5 rows x 76 columns]"
      ]
     },
     "execution_count": 22,
     "metadata": {},
     "output_type": "execute_result"
    }
   ],
   "source": [
    "df.head()"
   ]
  },
  {
   "cell_type": "markdown",
   "metadata": {},
   "source": [
    "## EDA & Preprocessing\n",
    "Diese Schritte sind in die beiden bisher behandelten Notebooks ausgelagert. Das einzige, was in diesem Notebook gemacht wird ist die Skalierung der Daten. Das hat den Grund dass die skalierten Daten auch wieder rescaled werden müssen. Um hier dann keine Verwirrung zu stiften wird somit ausschließlich hier gescalet."
   ]
  },
  {
   "cell_type": "markdown",
   "metadata": {},
   "source": [
    "## Horizontaler & vertikaler Cut"
   ]
  },
  {
   "cell_type": "code",
   "execution_count": 14,
   "metadata": {},
   "outputs": [],
   "source": [
    "input_features = list(df.columns)\n",
    "in_features = list(range(1, len(input_features)))\n",
    "out_feature = [0]"
   ]
  },
  {
   "cell_type": "code",
   "execution_count": 15,
   "metadata": {},
   "outputs": [],
   "source": [
    "input_df = df.iloc[:,in_features]\n",
    "output_df = df.iloc[:,out_feature]"
   ]
  },
  {
   "cell_type": "code",
   "execution_count": 16,
   "metadata": {},
   "outputs": [
    {
     "data": {
      "text/plain": [
       "(41, 41, 164, 164)"
      ]
     },
     "execution_count": 16,
     "metadata": {},
     "output_type": "execute_result"
    }
   ],
   "source": [
    "train_X, test_X, train_y, test_y = train_test_split(\n",
    "    input_df, \n",
    "    output_df,\n",
    "    test_size=0.2,\n",
    "    random_state = 123142\n",
    ") \n",
    "len(test_X), len(test_y), len(train_X), len(train_y)"
   ]
  },
  {
   "cell_type": "markdown",
   "metadata": {},
   "source": [
    "## Skalieren"
   ]
  },
  {
   "cell_type": "code",
   "execution_count": 17,
   "metadata": {},
   "outputs": [
    {
     "data": {
      "text/plain": [
       "RobustScaler(copy=True, quantile_range=(25.0, 75.0), with_centering=True,\n",
       "             with_scaling=True)"
      ]
     },
     "execution_count": 17,
     "metadata": {},
     "output_type": "execute_result"
    }
   ],
   "source": [
    "from sklearn.preprocessing import RobustScaler\n",
    "\n",
    "robust_scaler_X = RobustScaler()\n",
    "robust_scaler_y = RobustScaler()\n",
    "\n",
    "robust_scaler_X.fit(train_X)\n",
    "robust_scaler_y.fit(train_y)"
   ]
  },
  {
   "cell_type": "code",
   "execution_count": 18,
   "metadata": {},
   "outputs": [],
   "source": [
    "scaled_train_X = robust_scaler_X.transform(train_X)\n",
    "scaled_test_X = robust_scaler_X.transform(test_X)\n",
    "scaled_train_y = robust_scaler_y.transform(train_y)\n",
    "scaled_test_y = robust_scaler_y.transform(test_y)"
   ]
  },
  {
   "cell_type": "code",
   "execution_count": 19,
   "metadata": {},
   "outputs": [
    {
     "data": {
      "text/html": [
       "<div>\n",
       "<style scoped>\n",
       "    .dataframe tbody tr th:only-of-type {\n",
       "        vertical-align: middle;\n",
       "    }\n",
       "\n",
       "    .dataframe tbody tr th {\n",
       "        vertical-align: top;\n",
       "    }\n",
       "\n",
       "    .dataframe thead th {\n",
       "        text-align: right;\n",
       "    }\n",
       "</style>\n",
       "<table border=\"1\" class=\"dataframe\">\n",
       "  <thead>\n",
       "    <tr style=\"text-align: right;\">\n",
       "      <th></th>\n",
       "      <th>normalizedLosses</th>\n",
       "      <th>wheelBase</th>\n",
       "      <th>length</th>\n",
       "      <th>width</th>\n",
       "      <th>height</th>\n",
       "      <th>curbWeight</th>\n",
       "      <th>engineSize</th>\n",
       "      <th>bore</th>\n",
       "      <th>stroke</th>\n",
       "      <th>compressionRatio</th>\n",
       "      <th>...</th>\n",
       "      <th>twelve</th>\n",
       "      <th>two.1</th>\n",
       "      <th>1bbl</th>\n",
       "      <th>2bbl</th>\n",
       "      <th>4bbl</th>\n",
       "      <th>idi</th>\n",
       "      <th>mfi</th>\n",
       "      <th>mpfi</th>\n",
       "      <th>spdi</th>\n",
       "      <th>spfi</th>\n",
       "    </tr>\n",
       "  </thead>\n",
       "  <tbody>\n",
       "    <tr>\n",
       "      <th>0</th>\n",
       "      <td>-0.532189</td>\n",
       "      <td>-0.126582</td>\n",
       "      <td>-0.425397</td>\n",
       "      <td>-0.392857</td>\n",
       "      <td>-0.282051</td>\n",
       "      <td>-0.406910</td>\n",
       "      <td>-0.259067</td>\n",
       "      <td>-0.211640</td>\n",
       "      <td>-1.174312</td>\n",
       "      <td>0.000000</td>\n",
       "      <td>...</td>\n",
       "      <td>0.0</td>\n",
       "      <td>0.0</td>\n",
       "      <td>0.0</td>\n",
       "      <td>1.0</td>\n",
       "      <td>0.0</td>\n",
       "      <td>0.0</td>\n",
       "      <td>0.0</td>\n",
       "      <td>0.0</td>\n",
       "      <td>0.0</td>\n",
       "      <td>0.0</td>\n",
       "    </tr>\n",
       "    <tr>\n",
       "      <th>1</th>\n",
       "      <td>0.446352</td>\n",
       "      <td>-0.379747</td>\n",
       "      <td>-0.996825</td>\n",
       "      <td>-0.607143</td>\n",
       "      <td>-0.897436</td>\n",
       "      <td>-0.282790</td>\n",
       "      <td>-0.259067</td>\n",
       "      <td>-0.550265</td>\n",
       "      <td>0.146789</td>\n",
       "      <td>-1.696970</td>\n",
       "      <td>...</td>\n",
       "      <td>0.0</td>\n",
       "      <td>0.0</td>\n",
       "      <td>0.0</td>\n",
       "      <td>0.0</td>\n",
       "      <td>0.0</td>\n",
       "      <td>0.0</td>\n",
       "      <td>0.0</td>\n",
       "      <td>1.0</td>\n",
       "      <td>0.0</td>\n",
       "      <td>0.0</td>\n",
       "    </tr>\n",
       "    <tr>\n",
       "      <th>2</th>\n",
       "      <td>0.051502</td>\n",
       "      <td>-0.050633</td>\n",
       "      <td>-0.038095</td>\n",
       "      <td>-0.035714</td>\n",
       "      <td>-0.641026</td>\n",
       "      <td>-0.011516</td>\n",
       "      <td>-0.010363</td>\n",
       "      <td>-0.253968</td>\n",
       "      <td>0.403670</td>\n",
       "      <td>-1.818182</td>\n",
       "      <td>...</td>\n",
       "      <td>0.0</td>\n",
       "      <td>0.0</td>\n",
       "      <td>0.0</td>\n",
       "      <td>0.0</td>\n",
       "      <td>0.0</td>\n",
       "      <td>0.0</td>\n",
       "      <td>0.0</td>\n",
       "      <td>0.0</td>\n",
       "      <td>1.0</td>\n",
       "      <td>0.0</td>\n",
       "    </tr>\n",
       "    <tr>\n",
       "      <th>3</th>\n",
       "      <td>-0.532189</td>\n",
       "      <td>-0.126582</td>\n",
       "      <td>-0.425397</td>\n",
       "      <td>-0.392857</td>\n",
       "      <td>-0.333333</td>\n",
       "      <td>-0.371081</td>\n",
       "      <td>-0.259067</td>\n",
       "      <td>-0.211640</td>\n",
       "      <td>-1.174312</td>\n",
       "      <td>0.000000</td>\n",
       "      <td>...</td>\n",
       "      <td>0.0</td>\n",
       "      <td>0.0</td>\n",
       "      <td>0.0</td>\n",
       "      <td>1.0</td>\n",
       "      <td>0.0</td>\n",
       "      <td>0.0</td>\n",
       "      <td>0.0</td>\n",
       "      <td>0.0</td>\n",
       "      <td>0.0</td>\n",
       "      <td>0.0</td>\n",
       "    </tr>\n",
       "    <tr>\n",
       "      <th>4</th>\n",
       "      <td>1.098712</td>\n",
       "      <td>-0.278481</td>\n",
       "      <td>-0.260317</td>\n",
       "      <td>1.000000</td>\n",
       "      <td>-1.000000</td>\n",
       "      <td>0.468330</td>\n",
       "      <td>0.839378</td>\n",
       "      <td>1.375661</td>\n",
       "      <td>-0.880734</td>\n",
       "      <td>0.606061</td>\n",
       "      <td>...</td>\n",
       "      <td>0.0</td>\n",
       "      <td>0.0</td>\n",
       "      <td>0.0</td>\n",
       "      <td>0.0</td>\n",
       "      <td>0.0</td>\n",
       "      <td>0.0</td>\n",
       "      <td>0.0</td>\n",
       "      <td>1.0</td>\n",
       "      <td>0.0</td>\n",
       "      <td>0.0</td>\n",
       "    </tr>\n",
       "  </tbody>\n",
       "</table>\n",
       "<p>5 rows × 75 columns</p>\n",
       "</div>"
      ],
      "text/plain": [
       "   normalizedLosses  wheelBase    length     width    height  curbWeight  \\\n",
       "0         -0.532189  -0.126582 -0.425397 -0.392857 -0.282051   -0.406910   \n",
       "1          0.446352  -0.379747 -0.996825 -0.607143 -0.897436   -0.282790   \n",
       "2          0.051502  -0.050633 -0.038095 -0.035714 -0.641026   -0.011516   \n",
       "3         -0.532189  -0.126582 -0.425397 -0.392857 -0.333333   -0.371081   \n",
       "4          1.098712  -0.278481 -0.260317  1.000000 -1.000000    0.468330   \n",
       "\n",
       "   engineSize      bore    stroke  compressionRatio  ...  twelve  two.1  1bbl  \\\n",
       "0   -0.259067 -0.211640 -1.174312          0.000000  ...     0.0    0.0   0.0   \n",
       "1   -0.259067 -0.550265  0.146789         -1.696970  ...     0.0    0.0   0.0   \n",
       "2   -0.010363 -0.253968  0.403670         -1.818182  ...     0.0    0.0   0.0   \n",
       "3   -0.259067 -0.211640 -1.174312          0.000000  ...     0.0    0.0   0.0   \n",
       "4    0.839378  1.375661 -0.880734          0.606061  ...     0.0    0.0   0.0   \n",
       "\n",
       "   2bbl  4bbl  idi  mfi  mpfi  spdi  spfi  \n",
       "0   1.0   0.0  0.0  0.0   0.0   0.0   0.0  \n",
       "1   0.0   0.0  0.0  0.0   1.0   0.0   0.0  \n",
       "2   0.0   0.0  0.0  0.0   0.0   1.0   0.0  \n",
       "3   1.0   0.0  0.0  0.0   0.0   0.0   0.0  \n",
       "4   0.0   0.0  0.0  0.0   1.0   0.0   0.0  \n",
       "\n",
       "[5 rows x 75 columns]"
      ]
     },
     "execution_count": 19,
     "metadata": {},
     "output_type": "execute_result"
    }
   ],
   "source": [
    "pd.DataFrame(scaled_train_X, columns=input_df.columns).head(5)"
   ]
  },
  {
   "cell_type": "markdown",
   "metadata": {},
   "source": [
    "## Modellierung\n",
    "hier mal der first Shot mit einer Linearen Regression. Ich \"jage\" nahezu 80 Feature in das Modell. Daher dient, das folgende nur als \"first Shot\". Im Anschluss erstelle ich eine PCA, und beginne das ganze von neuem."
   ]
  },
  {
   "cell_type": "code",
   "execution_count": 27,
   "metadata": {},
   "outputs": [
    {
     "data": {
      "text/plain": [
       "LinearRegression(copy_X=True, fit_intercept=True, n_jobs=None, normalize=False)"
      ]
     },
     "execution_count": 27,
     "metadata": {},
     "output_type": "execute_result"
    }
   ],
   "source": [
    "from sklearn.linear_model import LinearRegression\n",
    "\n",
    "linerar_regressor = LinearRegression()\n",
    "linerar_regressor.fit(scaled_train_X, scaled_train_y)"
   ]
  },
  {
   "cell_type": "code",
   "execution_count": 28,
   "metadata": {},
   "outputs": [
    {
     "data": {
      "text/plain": [
       "array([[ 0.2453964 , -0.33391145, -0.04989187,  0.19396553,  0.05314253,\n",
       "        -0.21021792,  0.58745597,  0.00400162, -0.08115908,  0.05656754,\n",
       "        -0.30403007,  0.01761131, -0.09002451,  0.03602026, -0.11052498,\n",
       "        -0.27940149,  0.90865026, -0.49793964, -0.05554004,  0.00693032,\n",
       "         0.18381926, -0.35104775, -0.35435264, -0.08424149, -0.03398327,\n",
       "        -0.29228596,  0.2406709 , -0.00410226, -0.40952071, -0.07224499,\n",
       "         0.04108276,  0.32031764,  0.96573108, -0.05408643, -0.11117893,\n",
       "         0.66856871, -0.73584534, -0.37259534,  0.37259534, -0.16423607,\n",
       "         0.16423607, -0.17499707,  0.17499707,  0.13742144, -0.00132577,\n",
       "        -0.05342757, -0.088215  ,  0.0055469 , -0.26216415, -0.0542548 ,\n",
       "         0.31641895,  0.04762363, -0.04762363, -0.04895824,  0.08772839,\n",
       "         0.01047763, -0.11552125, -0.10171006, -0.39407228,  0.5620558 ,\n",
       "        -0.51451189, -0.59330655,  0.09921486,  0.02654943,  0.41999834,\n",
       "         0.        ,  0.5620558 , -0.22025299,  0.03858425, -0.1920555 ,\n",
       "        -0.37259534,  0.70653679, -0.03130198,  0.07108476,  0.        ]])"
      ]
     },
     "execution_count": 28,
     "metadata": {},
     "output_type": "execute_result"
    }
   ],
   "source": [
    "linerar_regressor.coef_"
   ]
  },
  {
   "cell_type": "code",
   "execution_count": 29,
   "metadata": {},
   "outputs": [],
   "source": [
    "prediction = linerar_regressor.predict(scaled_test_X)"
   ]
  },
  {
   "cell_type": "code",
   "execution_count": 30,
   "metadata": {},
   "outputs": [
    {
     "data": {
      "text/plain": [
       "array([[ 0.33159617],\n",
       "       [ 1.53142578],\n",
       "       [ 0.03179029],\n",
       "       [ 0.21842079],\n",
       "       [ 2.29509826],\n",
       "       [ 1.96540609],\n",
       "       [-0.70362849],\n",
       "       [ 2.95062549],\n",
       "       [ 1.70117678],\n",
       "       [ 1.99370164],\n",
       "       [ 0.04514166],\n",
       "       [ 1.21892055],\n",
       "       [ 0.04580592],\n",
       "       [ 1.44939977],\n",
       "       [ 2.15873798],\n",
       "       [ 1.20605432],\n",
       "       [ 0.2753311 ],\n",
       "       [ 0.01616728],\n",
       "       [ 2.10515671],\n",
       "       [-0.90263504],\n",
       "       [ 0.81603272],\n",
       "       [-0.93308001],\n",
       "       [ 2.20493097],\n",
       "       [-0.82766944],\n",
       "       [-1.42339086],\n",
       "       [ 0.63747447],\n",
       "       [ 2.94272849],\n",
       "       [ 0.48074362],\n",
       "       [ 1.80693722],\n",
       "       [ 0.27860044],\n",
       "       [-0.34977776],\n",
       "       [ 0.04488225],\n",
       "       [ 0.19401469],\n",
       "       [ 0.81963472],\n",
       "       [ 3.62223193],\n",
       "       [ 1.8203277 ],\n",
       "       [ 0.85696982],\n",
       "       [-0.01610464],\n",
       "       [-0.11059347],\n",
       "       [ 0.59814841],\n",
       "       [ 0.04291732]])"
      ]
     },
     "execution_count": 30,
     "metadata": {},
     "output_type": "execute_result"
    }
   ],
   "source": [
    "robust_scaler_y.inverse_transform(prediction)"
   ]
  },
  {
   "cell_type": "code",
   "execution_count": 31,
   "metadata": {},
   "outputs": [],
   "source": [
    "# helper Function\n",
    "def plot_pred_act(prediction, actual):\n",
    "    \n",
    "    r_min = actual.min()\n",
    "    r_max = actual.max()\n",
    "    \n",
    "    red_color = '#d5042a'\n",
    "    orange_color = '#ED7D31'\n",
    "    blue_color = '#43bed8'\n",
    "    lightgreen_color = '#98c235'\n",
    "    darkgreen_color = '#0b8f6a'\n",
    "    darkblue_color = '#0062A7'\n",
    "    lightblue_color = '#4DBED3'    \n",
    "    \n",
    "    plt.figure(figsize=(8,8))\n",
    "    plt.scatter(\n",
    "        y=prediction,\n",
    "        x=actual,\n",
    "        alpha=0.2,\n",
    "        marker=\".\",\n",
    "        color=lightgreen_color\n",
    "    )\n",
    "    plt.xlim(r_min, r_max)\n",
    "    plt.ylim(r_min, r_max)\n",
    "    plt.plot([r_min, r_max], [r_min, r_max], \"-\", color=red_color)\n",
    "    plt.title(\"Prediction vs Actual\")\n",
    "    plt.xlabel(\"actual\")\n",
    "    plt.ylabel(\"predicted\")"
   ]
  },
  {
   "cell_type": "code",
   "execution_count": 32,
   "metadata": {},
   "outputs": [
    {
     "data": {
      "text/plain": [
       "[<matplotlib.lines.Line2D at 0x1f1ac6f2e80>]"
      ]
     },
     "execution_count": 32,
     "metadata": {},
     "output_type": "execute_result"
    },
    {
     "data": {
      "image/png": "[encoded data removed]",
      "text/plain": [
       "<Figure size 360x360 with 1 Axes>"
      ]
     },
     "metadata": {
      "needs_background": "light"
     },
     "output_type": "display_data"
    }
   ],
   "source": [
    "from matplotlib import pyplot as plt\n",
    "\n",
    "plt.figure(figsize=(5,5))\n",
    "plt.scatter(x=scaled_test_y, y=prediction, alpha=0.3)\n",
    "plt.xlim([scaled_test_y.min(), scaled_test_y.max()])\n",
    "plt.ylim([scaled_test_y.min(), scaled_test_y.max()])\n",
    "plt.plot(\n",
    "    [scaled_test_y.min(), scaled_test_y.max()],\n",
    "    [scaled_test_y.min(), scaled_test_y.max()],\n",
    "    \"r-\"\n",
    ")"
   ]
  },
  {
   "cell_type": "code",
   "execution_count": 33,
   "metadata": {},
   "outputs": [
    {
     "data": {
      "image/png": "[encoded data removed]",
      "text/plain": [
       "<Figure size 576x576 with 1 Axes>"
      ]
     },
     "metadata": {
      "needs_background": "light"
     },
     "output_type": "display_data"
    }
   ],
   "source": [
    "plot_pred_act(prediction, scaled_test_y)"
   ]
  },
  {
   "cell_type": "code",
   "execution_count": 34,
   "metadata": {},
   "outputs": [
    {
     "data": {
      "text/plain": [
       "0.6178365009803053"
      ]
     },
     "execution_count": 34,
     "metadata": {},
     "output_type": "execute_result"
    }
   ],
   "source": [
    " linerar_regressor.score(scaled_test_X, scaled_test_y)"
   ]
  },
  {
   "cell_type": "code",
   "execution_count": 35,
   "metadata": {},
   "outputs": [],
   "source": [
    "from sklearn.metrics import mean_squared_error, r2_score"
   ]
  },
  {
   "cell_type": "code",
   "execution_count": 37,
   "metadata": {},
   "outputs": [
    {
     "data": {
      "text/plain": [
       "array([[1.7814366]])"
      ]
     },
     "execution_count": 37,
     "metadata": {},
     "output_type": "execute_result"
    }
   ],
   "source": [
    "import numpy as np\n",
    "robust_scaler_y.inverse_transform([[np.sqrt(mean_squared_error(scaled_test_y, prediction))]])"
   ]
  },
  {
   "cell_type": "code",
   "execution_count": 38,
   "metadata": {},
   "outputs": [
    {
     "data": {
      "text/plain": [
       "0.6178365009803053"
      ]
     },
     "execution_count": 38,
     "metadata": {},
     "output_type": "execute_result"
    }
   ],
   "source": [
    "r2_score(scaled_test_y, prediction)"
   ]
  },
  {
   "cell_type": "markdown",
   "metadata": {},
   "source": [
    "## Random Forrest"
   ]
  },
  {
   "cell_type": "code",
   "execution_count": 39,
   "metadata": {},
   "outputs": [
    {
     "name": "stderr",
     "output_type": "stream",
     "text": [
      "C:\\Users\\1810837475\\.conda\\envs\\Kompensationsarbeit\\lib\\site-packages\\ipykernel_launcher.py:4: DataConversionWarning: A column-vector y was passed when a 1d array was expected. Please change the shape of y to (n_samples,), for example using ravel().\n",
      "  after removing the cwd from sys.path.\n"
     ]
    },
    {
     "data": {
      "text/plain": [
       "RandomForestRegressor(bootstrap=True, ccp_alpha=0.0, criterion='mse',\n",
       "                      max_depth=None, max_features='auto', max_leaf_nodes=None,\n",
       "                      max_samples=None, min_impurity_decrease=0.0,\n",
       "                      min_impurity_split=None, min_samples_leaf=1,\n",
       "                      min_samples_split=2, min_weight_fraction_leaf=0.0,\n",
       "                      n_estimators=100, n_jobs=None, oob_score=False,\n",
       "                      random_state=None, verbose=0, warm_start=False)"
      ]
     },
     "execution_count": 39,
     "metadata": {},
     "output_type": "execute_result"
    }
   ],
   "source": [
    "from sklearn.ensemble import RandomForestRegressor\n",
    "\n",
    "forest_regressor = RandomForestRegressor(n_estimators=100)\n",
    "forest_regressor.fit(scaled_train_X, scaled_train_y)"
   ]
  },
  {
   "cell_type": "code",
   "execution_count": 40,
   "metadata": {},
   "outputs": [],
   "source": [
    "forest_prediction = forest_regressor.predict(scaled_test_X)"
   ]
  },
  {
   "cell_type": "code",
   "execution_count": 41,
   "metadata": {},
   "outputs": [
    {
     "data": {
      "image/png": "[encoded data removed]",
      "text/plain": [
       "<Figure size 576x576 with 1 Axes>"
      ]
     },
     "metadata": {
      "needs_background": "light"
     },
     "output_type": "display_data"
    }
   ],
   "source": [
    "plot_pred_act(actual=scaled_test_y, prediction=forest_prediction)"
   ]
  },
  {
   "cell_type": "code",
   "execution_count": 42,
   "metadata": {},
   "outputs": [
    {
     "data": {
      "text/plain": [
       "0.7585838793745346"
      ]
     },
     "execution_count": 42,
     "metadata": {},
     "output_type": "execute_result"
    }
   ],
   "source": [
    "forest_regressor.score(scaled_test_X, scaled_test_y)"
   ]
  },
  {
   "cell_type": "markdown",
   "metadata": {},
   "source": [
    "## Hyperparameter Tuning mit GridSearch"
   ]
  },
  {
   "cell_type": "code",
   "execution_count": 44,
   "metadata": {},
   "outputs": [
    {
     "data": {
      "text/plain": [
       "array([-0.5,  0. ,  0. , -0.5,  1. ,  0.5, -1. , -0.5,  1. ,  0. , -0.5,\n",
       "        0. ,  0. , -0.5,  0. , -0.5, -0.5, -0.5, -0.5,  1. ,  0. ,  1. ,\n",
       "       -1. ,  0. ,  0. ,  0. ,  1. ,  0.5, -0.5,  0.5,  0.5,  0. ,  0.5,\n",
       "       -0.5, -0.5,  0. , -0.5,  0.5,  0. ,  1. , -1. , -0.5, -0.5,  0. ,\n",
       "        1. ,  0. ,  0. , -0.5,  0.5, -1. ,  0. ,  0. , -0.5, -0.5,  0. ,\n",
       "        0.5,  0.5, -0.5, -0.5, -0.5, -0.5, -0.5, -1. ,  0. , -1. ,  0.5,\n",
       "        1. , -1. ,  0. ,  0.5,  1. ,  0. , -1. , -0.5,  1. ,  1. ,  0.5,\n",
       "        0. , -1. , -0.5,  1. ,  0. , -0.5,  0.5,  1. , -0.5, -0.5,  0. ,\n",
       "       -0.5,  0. ,  0. ,  0. ,  0.5, -1.5,  1. ,  1. , -0.5,  0.5,  0.5,\n",
       "       -0.5, -0.5, -1. ,  0. ,  0. , -0.5,  0. , -0.5, -0.5,  1. ,  1. ,\n",
       "        0.5,  0. ,  0.5, -0.5,  0. , -1. , -0.5,  1. ,  0.5, -0.5,  0. ,\n",
       "        1. ,  0.5,  0. , -1. ,  0. , -0.5,  0. , -0.5,  0.5, -0.5, -0.5,\n",
       "       -1. ,  0.5, -0.5, -0.5,  0.5, -0.5,  1. ,  0. ,  1. , -1. ,  0. ,\n",
       "        0. , -0.5,  0.5, -1. ,  0.5, -1. , -0.5, -0.5,  0. ,  1. ,  1. ,\n",
       "       -0.5, -0.5, -0.5,  0. ,  0. , -0.5,  0.5, -1. , -1. ,  0. ])"
      ]
     },
     "execution_count": 44,
     "metadata": {},
     "output_type": "execute_result"
    }
   ],
   "source": [
    "scaled_train_y.ravel()"
   ]
  },
  {
   "cell_type": "code",
   "execution_count": 46,
   "metadata": {},
   "outputs": [
    {
     "data": {
      "text/plain": [
       "GridSearchCV(cv=None, error_score=nan,\n",
       "             estimator=RandomForestRegressor(bootstrap=True, ccp_alpha=0.0,\n",
       "                                             criterion='mse', max_depth=None,\n",
       "                                             max_features='auto',\n",
       "                                             max_leaf_nodes=None,\n",
       "                                             max_samples=None,\n",
       "                                             min_impurity_decrease=0.0,\n",
       "                                             min_impurity_split=None,\n",
       "                                             min_samples_leaf=1,\n",
       "                                             min_samples_split=2,\n",
       "                                             min_weight_fraction_leaf=0.0,\n",
       "                                             n_estimators=100, n_jobs=None,\n",
       "                                             oob_score=False, random_state=None,\n",
       "                                             verbose=0, warm_start=False),\n",
       "             iid='deprecated', n_jobs=None,\n",
       "             param_grid={'max_depth': [8, None], 'n_estimators': [50, 100]},\n",
       "             pre_dispatch='2*n_jobs', refit=True, return_train_score=False,\n",
       "             scoring=None, verbose=0)"
      ]
     },
     "execution_count": 46,
     "metadata": {},
     "output_type": "execute_result"
    }
   ],
   "source": [
    "from sklearn.model_selection import GridSearchCV, RandomizedSearchCV\n",
    "\n",
    "grid_forest_regressor = RandomForestRegressor()\n",
    "\n",
    "param_grid = {\n",
    "    \"max_depth\": [8, None],\n",
    "    \"n_estimators\": [50, 100]\n",
    "}\n",
    "\n",
    "grid_search_object = GridSearchCV(\n",
    "    estimator=grid_forest_regressor,\n",
    "    param_grid=param_grid\n",
    ")\n",
    "\n",
    "grid_search_object.fit(scaled_train_X, scaled_train_y.ravel())"
   ]
  },
  {
   "cell_type": "code",
   "execution_count": 47,
   "metadata": {},
   "outputs": [
    {
     "data": {
      "text/plain": [
       "0.7488711839166047"
      ]
     },
     "execution_count": 47,
     "metadata": {},
     "output_type": "execute_result"
    }
   ],
   "source": [
    "grid_search_object.best_estimator_.score(scaled_test_X, scaled_test_y)"
   ]
  }
 ],
 "metadata": {
  "kernelspec": {
   "display_name": "Python 3",
   "language": "python",
   "name": "python3"
  },
  "language_info": {
   "codemirror_mode": {
    "name": "ipython",
    "version": 3
   },
   "file_extension": ".py",
   "mimetype": "text/x-python",
   "name": "python",
   "nbconvert_exporter": "python",
   "pygments_lexer": "ipython3",
   "version": "3.6.9"
  }
 },
 "nbformat": 4,
 "nbformat_minor": 2
}
