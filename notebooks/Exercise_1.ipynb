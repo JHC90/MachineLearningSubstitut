{
 "cells": [
  {
   "cell_type": "markdown",
   "metadata": {},
   "source": [
    "# Aufgabe 1\n",
    "Verwendet in diesem Teil des Übungsblatts das Datenset um (mindestens) zwei Modelle zu entwickeln, um das\n",
    "Versicherungsrisiko (insurance risk) von Fahrzeugen zu schätzen. Verwendet dazu zwei unterschiedliche\n",
    "Regressionsansätze aus dem Repertoire von sklearn und dokumentiert euer vorgehen. Achtet dabei auf eine\n",
    "saubere Trennung von Trainings- und Testdaten. Interpretiert anschließend eure Ergebnisse/Scores."
   ]
  },
  {
   "cell_type": "markdown",
   "metadata": {},
   "source": [
    "## Bibliotheken"
   ]
  },
  {
   "cell_type": "code",
   "execution_count": 1,
   "metadata": {},
   "outputs": [],
   "source": [
    "import pandas as pd\n",
    "from sklearn.model_selection import train_test_split"
   ]
  },
  {
   "cell_type": "markdown",
   "metadata": {},
   "source": [
    "# Data-Loading\n",
    "Die Daten wurden als gesamtes in dem Data-Preparation Notebook vorverarbeitet. Diese Vorverarbeiteten Daten werden nun hier geladen und entsprechend nach der jweiligen Output-Variable gesplitet."
   ]
  },
  {
   "cell_type": "code",
   "execution_count": 2,
   "metadata": {},
   "outputs": [],
   "source": [
    "df = pd.read_csv('../data/reg_df_prepared.csv',delimiter=',',encoding='utf-8', index_col=[0])"
   ]
  },
  {
   "cell_type": "code",
   "execution_count": 3,
   "metadata": {},
   "outputs": [
    {
     "data": {
      "text/plain": [
       "((164, 75), (41, 75), (164, 1), (41, 1))"
      ]
     },
     "execution_count": 3,
     "metadata": {},
     "output_type": "execute_result"
    }
   ],
   "source": [
    "input_features = list(df.columns)\n",
    "\n",
    "output_features = [\n",
    "    \"symboling\"\n",
    "]\n",
    "\n",
    "input_features.remove(\"symboling\")\n",
    "\n",
    "train_X, test_X, train_y, test_y = train_test_split(\n",
    "    df[input_features], \n",
    "    df[output_features],\n",
    "    test_size=0.2\n",
    ")\n",
    "train_X.shape, test_X.shape, train_y.shape, test_y.shape"
   ]
  },
  {
   "cell_type": "code",
   "execution_count": 4,
   "metadata": {},
   "outputs": [
    {
     "name": "stdout",
     "output_type": "stream",
     "text": [
      "[[1.0], [-2.0], [0.0], [0.0], [0.0], [0.0], [1.0], [-1.0], [0.0], [1.0], [3.0], [0.0], [1.0], [0.0], [0.0], [3.0], [0.0], [0.0], [1.0], [0.0], [0.0], [1.0], [3.0], [0.0], [2.0], [3.0], [2.0], [0.0], [2.0], [1.0], [1.0], [-1.0], [2.0], [0.0], [0.0], [-1.0], [1.0], [-1.0], [1.0], [1.0], [0.0]]\n"
     ]
    }
   ],
   "source": [
    "test = test_y.values.tolist()\n",
    "print(test)"
   ]
  },
  {
   "cell_type": "markdown",
   "metadata": {},
   "source": [
    "# Randnotiz\n",
    "wie bereits erwähnt wurde die gesammelte Data-Preprocessing & EDA in ein anderes Notebook ausgelagert. Somit sollte dieses Notebook nicht im Umfang \"explodieren\"."
   ]
  },
  {
   "cell_type": "markdown",
   "metadata": {},
   "source": [
    "# Skalierung\n",
    "Tortz der externen Vorverarbeitung wurde die Skalierung in Das Modellierungs Notebook übernommmen. Sobald die Modelle trainiert sind, werden mit dieses Predcitions getätigt, und diese müssen logischerweise wieder reskaliert werden. Daher findet die Skalierung als einziger Preprocessing Step innerhalb des Notebooks statt."
   ]
  },
  {
   "cell_type": "code",
   "execution_count": 5,
   "metadata": {},
   "outputs": [
    {
     "data": {
      "text/plain": [
       "RobustScaler(copy=True, quantile_range=(25.0, 75.0), with_centering=True,\n",
       "             with_scaling=True)"
      ]
     },
     "execution_count": 5,
     "metadata": {},
     "output_type": "execute_result"
    }
   ],
   "source": [
    "from sklearn.preprocessing import RobustScaler\n",
    "\n",
    "robust_scaler_X = RobustScaler()\n",
    "robust_scaler_y = RobustScaler()\n",
    "\n",
    "robust_scaler_X.fit(train_X)\n",
    "robust_scaler_y.fit(train_y)"
   ]
  },
  {
   "cell_type": "code",
   "execution_count": 6,
   "metadata": {},
   "outputs": [],
   "source": [
    "scaled_train_X = robust_scaler_X.transform(train_X)\n",
    "scaled_test_X = robust_scaler_X.transform(test_X)\n",
    "scaled_train_y = robust_scaler_y.transform(train_y)\n",
    "scaled_test_y = robust_scaler_y.transform(test_y)"
   ]
  },
  {
   "cell_type": "markdown",
   "metadata": {},
   "source": [
    "# Modellierung\n",
    "Frage gibt es Sinn mit Allen 80"
   ]
  },
  {
   "cell_type": "code",
   "execution_count": 7,
   "metadata": {},
   "outputs": [
    {
     "data": {
      "text/plain": [
       "LinearRegression(copy_X=True, fit_intercept=True, n_jobs=None, normalize=False)"
      ]
     },
     "execution_count": 7,
     "metadata": {},
     "output_type": "execute_result"
    }
   ],
   "source": [
    "from sklearn.linear_model import LinearRegression\n",
    "\n",
    "linerar_regressor = LinearRegression()\n",
    "linerar_regressor.fit(scaled_train_X, scaled_train_y)"
   ]
  },
  {
   "cell_type": "code",
   "execution_count": 8,
   "metadata": {},
   "outputs": [
    {
     "data": {
      "text/plain": [
       "array([-0.25747011])"
      ]
     },
     "execution_count": 8,
     "metadata": {},
     "output_type": "execute_result"
    }
   ],
   "source": [
    "linerar_regressor.intercept_"
   ]
  },
  {
   "cell_type": "code",
   "execution_count": 9,
   "metadata": {},
   "outputs": [
    {
     "data": {
      "text/plain": [
       "array([[ 0.0637611 , -0.22801795, -0.1122451 ,  0.08140831, -0.19095003,\n",
       "         0.22270241,  0.64710246,  0.03502451, -0.06047901,  0.02451805,\n",
       "        -0.37522888,  0.15729369, -0.12420605,  0.23463153, -0.22269491,\n",
       "        -0.44472104,  1.36651477, -0.10698214, -0.34986453, -0.22781358,\n",
       "         0.01954388, -0.35540008, -0.81528078, -0.04974527,  0.09807255,\n",
       "        -0.01922371,  0.07551004, -0.03835264, -0.24009507, -0.19108647,\n",
       "         0.17074021,  0.02318994,  1.15353261, -0.15106784, -0.15523138,\n",
       "         0.84566894, -0.60790843, -0.24259211,  0.24259211, -0.16510772,\n",
       "         0.16510772, -0.18281651,  0.18281651,  0.21530227,  0.0151293 ,\n",
       "        -0.04323153, -0.13533121, -0.05186883,  0.01196773, -0.12749018,\n",
       "         0.11552245, -0.04922884,  0.04922884,  0.10097912, -0.06102936,\n",
       "         0.20024335, -0.02340579, -0.101839  , -0.44369963,  0.31119697,\n",
       "        -0.34975128, -0.57511204,  0.11861495,  0.05471297,  0.44033842,\n",
       "         0.        ,  0.31119697, -0.38214516, -0.00897507,  0.31119697,\n",
       "        -0.24259211,  0.47052379, -0.13985068, -0.10718523,  0.0990275 ]])"
      ]
     },
     "execution_count": 9,
     "metadata": {},
     "output_type": "execute_result"
    }
   ],
   "source": [
    "linerar_regressor.coef_"
   ]
  },
  {
   "cell_type": "code",
   "execution_count": 10,
   "metadata": {},
   "outputs": [],
   "source": [
    "predictionScaled = linerar_regressor.predict(scaled_test_X)\n",
    "prediction = linerar_regressor.predict(scaled_test_X)"
   ]
  },
  {
   "cell_type": "code",
   "execution_count": 11,
   "metadata": {},
   "outputs": [],
   "source": [
    "rescaledprections = robust_scaler_y.inverse_transform(predictionScaled)"
   ]
  },
  {
   "cell_type": "code",
   "execution_count": 12,
   "metadata": {},
   "outputs": [],
   "source": [
    "def mapPredictions(rescaledprections):\n",
    "    predictionsmapped = []\n",
    "    for i in range(0,len(rescaledprections),1):\n",
    "        if(int(rescaledprections[i])>3):\n",
    "            print(rescaledprections[i])\n",
    "            predictionsmapped.append(3)\n",
    "            print(3)\n",
    "            predictionsmapped.append(3)\n",
    "            print()\n",
    "        elif(int(rescaledprections[i])<-3):\n",
    "            print(rescaledprections[i])\n",
    "            print(3)\n",
    "            predictionsmapped.append(-3)\n",
    "            print()\n",
    "        else:\n",
    "            print(rescaledprections[i])\n",
    "            print(round(float(rescaledprections[i])))\n",
    "            predictionsmapped.append(round(float(rescaledprections[i])))\n",
    "            print()\n",
    "    return(predictionsmapped)"
   ]
  },
  {
   "cell_type": "code",
   "execution_count": 13,
   "metadata": {},
   "outputs": [
    {
     "name": "stdout",
     "output_type": "stream",
     "text": [
      "[0.48814974]\n",
      "0\n",
      "\n",
      "[-0.7529831]\n",
      "-1\n",
      "\n",
      "[-0.29541872]\n",
      "0\n",
      "\n",
      "[0.42857587]\n",
      "0\n",
      "\n",
      "[-0.10282184]\n",
      "0\n",
      "\n",
      "[-0.22582371]\n",
      "0\n",
      "\n",
      "[0.43253155]\n",
      "0\n",
      "\n",
      "[-1.01664233]\n",
      "-1\n",
      "\n",
      "[0.63171691]\n",
      "1\n",
      "\n",
      "[1.70755379]\n",
      "2\n",
      "\n",
      "[2.47548797]\n",
      "2\n",
      "\n",
      "[0.72722469]\n",
      "1\n",
      "\n",
      "[0.25181172]\n",
      "0\n",
      "\n",
      "[-0.48301556]\n",
      "0\n",
      "\n",
      "[-0.09878924]\n",
      "0\n",
      "\n",
      "[1.7257133]\n",
      "2\n",
      "\n",
      "[2.73131301]\n",
      "3\n",
      "\n",
      "[-0.39888934]\n",
      "0\n",
      "\n",
      "[0.01018396]\n",
      "0\n",
      "\n",
      "[0.92783475]\n",
      "1\n",
      "\n",
      "[-0.69969291]\n",
      "-1\n",
      "\n",
      "[1.63041087]\n",
      "2\n",
      "\n",
      "[2.84295911]\n",
      "3\n",
      "\n",
      "[2.23751803]\n",
      "2\n",
      "\n",
      "[2.02474466]\n",
      "2\n",
      "\n",
      "[2.51735283]\n",
      "3\n",
      "\n",
      "[1.34840077]\n",
      "1\n",
      "\n",
      "[0.12724591]\n",
      "0\n",
      "\n",
      "[2.29845893]\n",
      "2\n",
      "\n",
      "[1.42172586]\n",
      "1\n",
      "\n",
      "[1.25560599]\n",
      "1\n",
      "\n",
      "[0.40416082]\n",
      "0\n",
      "\n",
      "[2.28895896]\n",
      "2\n",
      "\n",
      "[0.01613159]\n",
      "0\n",
      "\n",
      "[0.79827618]\n",
      "1\n",
      "\n",
      "[-0.87653893]\n",
      "-1\n",
      "\n",
      "[1.3503986]\n",
      "1\n",
      "\n",
      "[-1.37707883]\n",
      "-1\n",
      "\n",
      "[-0.28268875]\n",
      "0\n",
      "\n",
      "[0.33664601]\n",
      "0\n",
      "\n",
      "[1.52710296]\n",
      "2\n",
      "\n"
     ]
    }
   ],
   "source": [
    "predictionsUnscaledMapped = mapPredictions(rescaledprections)"
   ]
  },
  {
   "cell_type": "markdown",
   "metadata": {},
   "source": [
    "for i in range(0, len(predictions),1):\n",
    "    print(predictionsUnscaledMapped[i])\n",
    "    print(test[i])\n",
    "    print()"
   ]
  },
  {
   "cell_type": "code",
   "execution_count": 14,
   "metadata": {},
   "outputs": [],
   "source": [
    "def plot_pred_act(prediction, actual):\n",
    "    \n",
    "    r_min = actual.min()\n",
    "    r_max = actual.max()\n",
    "    \n",
    "    red_color = '#d5042a'\n",
    "    orange_color = '#ED7D31'\n",
    "    blue_color = '#43bed8'\n",
    "    lightgreen_color = '#98c235'\n",
    "    darkgreen_color = '#0b8f6a'\n",
    "    darkblue_color = '#0062A7'\n",
    "    lightblue_color = '#4DBED3'    \n",
    "    \n",
    "    plt.figure(figsize=(8,8))\n",
    "    plt.scatter(\n",
    "        y=prediction,\n",
    "        x=actual,\n",
    "        alpha=0.2,\n",
    "        marker=\".\",\n",
    "        color=lightgreen_color\n",
    "    )\n",
    "    plt.xlim(r_min, r_max)\n",
    "    plt.ylim(r_min, r_max)\n",
    "    plt.plot([r_min, r_max], [r_min, r_max], \"-\", color=red_color)\n",
    "    plt.title(\"Prediction vs Actual\")\n",
    "    plt.xlabel(\"actual\")\n",
    "    plt.ylabel(\"predicted\")"
   ]
  },
  {
   "cell_type": "code",
   "execution_count": 15,
   "metadata": {},
   "outputs": [
    {
     "data": {
      "text/plain": [
       "[<matplotlib.lines.Line2D at 0x2da0e799be0>]"
      ]
     },
     "execution_count": 15,
     "metadata": {},
     "output_type": "execute_result"
    },
    {
     "data": {
      "image/png": "[encoded data removed]",
      "text/plain": [
       "<Figure size 360x360 with 1 Axes>"
      ]
     },
     "metadata": {
      "needs_background": "light"
     },
     "output_type": "display_data"
    }
   ],
   "source": [
    "from matplotlib import pyplot as plt\n",
    "\n",
    "plt.figure(figsize=(5,5))\n",
    "plt.scatter(x=scaled_test_y, y=prediction, alpha=0.3)\n",
    "plt.xlim([scaled_test_y.min(), scaled_test_y.max()])\n",
    "plt.ylim([scaled_test_y.min(), scaled_test_y.max()])\n",
    "plt.plot(\n",
    "    [scaled_test_y.min(), scaled_test_y.max()],\n",
    "    [scaled_test_y.min(), scaled_test_y.max()],\n",
    "    \"r-\"\n",
    ")"
   ]
  },
  {
   "cell_type": "code",
   "execution_count": 16,
   "metadata": {},
   "outputs": [
    {
     "data": {
      "image/png": "[encoded data removed]",
      "text/plain": [
       "<Figure size 576x576 with 1 Axes>"
      ]
     },
     "metadata": {
      "needs_background": "light"
     },
     "output_type": "display_data"
    }
   ],
   "source": [
    "plot_pred_act(prediction, scaled_test_y)"
   ]
  },
  {
   "cell_type": "code",
   "execution_count": 17,
   "metadata": {},
   "outputs": [
    {
     "data": {
      "text/plain": [
       "0.45518129492916565"
      ]
     },
     "execution_count": 17,
     "metadata": {},
     "output_type": "execute_result"
    }
   ],
   "source": [
    "linerar_regressor.score(scaled_test_X, scaled_test_y)"
   ]
  },
  {
   "cell_type": "code",
   "execution_count": 18,
   "metadata": {},
   "outputs": [],
   "source": [
    " from sklearn.metrics import mean_squared_error, r2_score"
   ]
  },
  {
   "cell_type": "code",
   "execution_count": 19,
   "metadata": {},
   "outputs": [
    {
     "data": {
      "text/plain": [
       "array([[1.8607564]])"
      ]
     },
     "execution_count": 19,
     "metadata": {},
     "output_type": "execute_result"
    }
   ],
   "source": [
    "import numpy as np\n",
    "\n",
    "robust_scaler_y.inverse_transform([[np.sqrt(mean_squared_error(scaled_test_y, prediction))]])"
   ]
  },
  {
   "cell_type": "code",
   "execution_count": 20,
   "metadata": {},
   "outputs": [
    {
     "data": {
      "text/plain": [
       "0.4551812949291657"
      ]
     },
     "execution_count": 20,
     "metadata": {},
     "output_type": "execute_result"
    }
   ],
   "source": [
    "r2_score(scaled_test_y, prediction)"
   ]
  },
  {
   "cell_type": "code",
   "execution_count": null,
   "metadata": {},
   "outputs": [],
   "source": []
  },
  {
   "cell_type": "code",
   "execution_count": 21,
   "metadata": {},
   "outputs": [
    {
     "name": "stderr",
     "output_type": "stream",
     "text": [
      "C:\\Users\\1810837475\\.conda\\envs\\Kompensationsarbeit\\lib\\site-packages\\ipykernel_launcher.py:4: DataConversionWarning: A column-vector y was passed when a 1d array was expected. Please change the shape of y to (n_samples,), for example using ravel().\n",
      "  after removing the cwd from sys.path.\n"
     ]
    },
    {
     "data": {
      "text/plain": [
       "RandomForestRegressor(bootstrap=True, ccp_alpha=0.0, criterion='mse',\n",
       "                      max_depth=None, max_features='auto', max_leaf_nodes=None,\n",
       "                      max_samples=None, min_impurity_decrease=0.0,\n",
       "                      min_impurity_split=None, min_samples_leaf=1,\n",
       "                      min_samples_split=2, min_weight_fraction_leaf=0.0,\n",
       "                      n_estimators=100, n_jobs=None, oob_score=False,\n",
       "                      random_state=None, verbose=0, warm_start=False)"
      ]
     },
     "execution_count": 21,
     "metadata": {},
     "output_type": "execute_result"
    }
   ],
   "source": [
    "from sklearn.ensemble import RandomForestRegressor\n",
    "\n",
    "forest_regressor = RandomForestRegressor(n_estimators=100)\n",
    "forest_regressor.fit(scaled_train_X, scaled_train_y)"
   ]
  },
  {
   "cell_type": "code",
   "execution_count": 22,
   "metadata": {},
   "outputs": [],
   "source": [
    "forest_prediction = forest_regressor.predict(scaled_test_X)"
   ]
  },
  {
   "cell_type": "code",
   "execution_count": 23,
   "metadata": {},
   "outputs": [
    {
     "data": {
      "image/png": "[encoded data removed]",
      "text/plain": [
       "<Figure size 576x576 with 1 Axes>"
      ]
     },
     "metadata": {
      "needs_background": "light"
     },
     "output_type": "display_data"
    }
   ],
   "source": [
    "plot_pred_act(actual=scaled_test_y, prediction=forest_prediction)"
   ]
  },
  {
   "cell_type": "code",
   "execution_count": 24,
   "metadata": {},
   "outputs": [
    {
     "data": {
      "text/plain": [
       "0.6013189413823271"
      ]
     },
     "execution_count": 24,
     "metadata": {},
     "output_type": "execute_result"
    }
   ],
   "source": [
    "forest_regressor.score(scaled_test_X, scaled_test_y)"
   ]
  },
  {
   "cell_type": "code",
   "execution_count": 25,
   "metadata": {},
   "outputs": [],
   "source": [
    "# Hyperparameter"
   ]
  },
  {
   "cell_type": "code",
   "execution_count": 26,
   "metadata": {},
   "outputs": [
    {
     "data": {
      "text/plain": [
       "array([ 0.5,  0. ,  1. , -0.5, -0.5,  0.5,  0.5,  0.5, -0.5,  1. ,  0. ,\n",
       "        0.5, -0.5, -1. ,  0. ,  0.5, -1. ,  0. ,  1. , -0.5,  0. ,  0. ,\n",
       "        1. , -0.5,  0. ,  0. ,  0.5,  1. , -0.5,  1. ,  0. ,  0. , -0.5,\n",
       "       -1. ,  0.5, -0.5,  0. , -1. , -0.5,  0. ,  0. ,  0.5,  0.5, -0.5,\n",
       "       -1. , -0.5,  0. , -0.5, -0.5, -0.5, -1. , -0.5, -0.5,  0. , -1.5,\n",
       "        0.5,  1. , -0.5,  0. ,  0. ,  0. ,  0. , -1.5,  1. , -1. , -0.5,\n",
       "        1. ,  0. ,  0.5, -0.5, -0.5, -0.5,  0. , -0.5,  0. ,  0. ,  0.5,\n",
       "        0.5, -1. , -0.5, -0.5,  0. ,  0.5,  0. , -0.5,  1. ,  1. ,  1. ,\n",
       "       -0.5, -0.5,  0.5, -0.5, -0.5, -0.5,  1. ,  0. ,  1. ,  0.5, -0.5,\n",
       "       -0.5,  0. , -0.5,  0.5, -1. , -0.5, -0.5,  1. ,  1. ,  1. ,  0.5,\n",
       "        0. ,  0.5,  0. , -1. , -1. , -1. ,  0. ,  0. ,  0. ,  0. ,  0. ,\n",
       "       -1. , -0.5, -1. ,  0. ,  0. ,  0.5, -0.5, -0.5,  0.5,  1. ,  0.5,\n",
       "       -0.5, -1. ,  0.5,  0. , -0.5,  1. , -1. , -0.5, -0.5, -0.5,  1. ,\n",
       "       -0.5,  1. ,  0.5,  0. ,  0.5,  0. ,  1. ,  0.5, -0.5, -0.5,  0. ,\n",
       "       -1. ,  0. , -0.5,  0. ,  0. ,  1. , -1. , -0.5, -0.5,  0.5])"
      ]
     },
     "execution_count": 26,
     "metadata": {},
     "output_type": "execute_result"
    }
   ],
   "source": [
    "scaled_train_y.ravel()"
   ]
  },
  {
   "cell_type": "code",
   "execution_count": 27,
   "metadata": {},
   "outputs": [
    {
     "data": {
      "text/plain": [
       "GridSearchCV(cv=None, error_score=nan,\n",
       "             estimator=RandomForestRegressor(bootstrap=True, ccp_alpha=0.0,\n",
       "                                             criterion='mse', max_depth=None,\n",
       "                                             max_features='auto',\n",
       "                                             max_leaf_nodes=None,\n",
       "                                             max_samples=None,\n",
       "                                             min_impurity_decrease=0.0,\n",
       "                                             min_impurity_split=None,\n",
       "                                             min_samples_leaf=1,\n",
       "                                             min_samples_split=2,\n",
       "                                             min_weight_fraction_leaf=0.0,\n",
       "                                             n_estimators=100, n_jobs=None,\n",
       "                                             oob_score=False, random_state=None,\n",
       "                                             verbose=0, warm_start=False),\n",
       "             iid='deprecated', n_jobs=None,\n",
       "             param_grid={'max_depth': [8, None], 'n_estimators': [50, 100]},\n",
       "             pre_dispatch='2*n_jobs', refit=True, return_train_score=False,\n",
       "             scoring=None, verbose=0)"
      ]
     },
     "execution_count": 27,
     "metadata": {},
     "output_type": "execute_result"
    }
   ],
   "source": [
    "from sklearn.model_selection import GridSearchCV, RandomizedSearchCV\n",
    "\n",
    "grid_forest_regressor = RandomForestRegressor()\n",
    "\n",
    "param_grid = {\n",
    "    \"max_depth\": [8, None],\n",
    "    \"n_estimators\": [50, 100]\n",
    "}\n",
    "\n",
    "grid_search_object = GridSearchCV(\n",
    "    estimator=grid_forest_regressor,\n",
    "    param_grid=param_grid\n",
    ")\n",
    "\n",
    "grid_search_object.fit(scaled_train_X, scaled_train_y.ravel())"
   ]
  },
  {
   "cell_type": "code",
   "execution_count": 28,
   "metadata": {},
   "outputs": [
    {
     "data": {
      "text/plain": [
       "0.5930920384951881"
      ]
     },
     "execution_count": 28,
     "metadata": {},
     "output_type": "execute_result"
    }
   ],
   "source": [
    "grid_search_object.best_estimator_.score(scaled_test_X, scaled_test_y)"
   ]
  }
 ],
 "metadata": {
  "kernelspec": {
   "display_name": "Python 3",
   "language": "python",
   "name": "python3"
  },
  "language_info": {
   "codemirror_mode": {
    "name": "ipython",
    "version": 3
   },
   "file_extension": ".py",
   "mimetype": "text/x-python",
   "name": "python",
   "nbconvert_exporter": "python",
   "pygments_lexer": "ipython3",
   "version": "3.6.9"
  }
 },
 "nbformat": 4,
 "nbformat_minor": 2
}
