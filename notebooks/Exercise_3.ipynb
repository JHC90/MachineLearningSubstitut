{
 "cells": [
  {
   "cell_type": "markdown",
   "metadata": {},
   "source": [
    "# Aufgabe 3\n",
    "Verwendet im letzten Teil des Übungsblatts entweder eure Lösung aus Teil 1 oder aus Teil 2 und ersetzt eure\n",
    "ursprünglich entwickelten Modelle durch ein künstliches Neuronales Netz (Fast Forward) mit zumindest 2\n",
    "hidden Layern. Verwendet hierfür tensorflow und keras. Tested die Performanz eures Netz mit Hilfe eurer\n",
    "Testdaten und diskutiert eure Ergebnisse. Auch hier könnt ihr, soweit möglich, auf die Vorverarbeitunsschritte\n",
    "eurer ersten Lösung zurückgreifen."
   ]
  },
  {
   "cell_type": "markdown",
   "metadata": {},
   "source": [
    "#### Wort zum Sonntag\n",
    "Ich setze in diesem Notebook "
   ]
  },
  {
   "cell_type": "markdown",
   "metadata": {},
   "source": [
    "## Bibliotheken"
   ]
  },
  {
   "cell_type": "code",
   "execution_count": 1,
   "metadata": {},
   "outputs": [],
   "source": [
    "import pandas as pd\n",
    "import numpy as np\n",
    "from sklearn.model_selection import train_test_split\n",
    "from sklearn.preprocessing import RobustScaler\n",
    "import seaborn as sns\n",
    "from matplotlib import pyplot as plt\n",
    "\n",
    "\n",
    "import seaborn as sns\n",
    "from matplotlib import pyplot as plt"
   ]
  },
  {
   "cell_type": "code",
   "execution_count": 2,
   "metadata": {},
   "outputs": [
    {
     "name": "stderr",
     "output_type": "stream",
     "text": [
      "Using TensorFlow backend.\n"
     ]
    }
   ],
   "source": [
    "from __future__ import print_function\n",
    "import keras\n",
    "from keras.models import Sequential\n",
    "from keras.layers import Dense, Dropout\n",
    "from keras.optimizers import RMSprop\n",
    "from keras.models import model_from_json\n",
    "from pathlib import Path\n",
    "import matplotlib.pyplot as plt\n",
    "import tensorflow as tf"
   ]
  },
  {
   "cell_type": "markdown",
   "metadata": {},
   "source": [
    "# Data-Loading\n",
    "Die Daten wurden als gesamtes in dem Data-Preparation Notebook vorverarbeitet. Diese Vorverarbeiteten Daten werden nun hier geladen und entsprechend nach der jweiligen Output-Variable gesplitet."
   ]
  },
  {
   "cell_type": "code",
   "execution_count": 3,
   "metadata": {},
   "outputs": [
    {
     "data": {
      "text/plain": [
       "\"df[['symboling']]=df[['symboling']].astype('float64')\\ndf[['normalizedLosses']]=df[['normalizedLosses']].astype('float64')\\ndf[['peakRpm']]=df[['peakRpm']].astype('float64')\\ndf[['bore']]=df[['bore']].astype('float64')\\ndf[['stroke']]=df[['stroke']].astype('float64')\\ndf[['engineSize']]=df[['engineSize']].astype('float64')\\ndf[['cityMpg']]=df[['cityMpg']].astype('float64')\\ndf[['highwayMpg']]=df[['highwayMpg']].astype('float64')\\ndf[['curbWeight']]=df[['curbWeight']].astype('float64')\""
      ]
     },
     "execution_count": 3,
     "metadata": {},
     "output_type": "execute_result"
    }
   ],
   "source": [
    "df = pd.read_csv('../data/clf_df_prepared.csv',delimiter=',',encoding='utf-8', index_col=[0])\n",
    "#df.info() # => Ausschließlich float64 // symboling = insurance risk = position 0\n",
    "'''df[['symboling']]=df[['symboling']].astype('float64')\n",
    "df[['normalizedLosses']]=df[['normalizedLosses']].astype('float64')\n",
    "df[['peakRpm']]=df[['peakRpm']].astype('float64')\n",
    "df[['bore']]=df[['bore']].astype('float64')\n",
    "df[['stroke']]=df[['stroke']].astype('float64')\n",
    "df[['engineSize']]=df[['engineSize']].astype('float64')\n",
    "df[['cityMpg']]=df[['cityMpg']].astype('float64')\n",
    "df[['highwayMpg']]=df[['highwayMpg']].astype('float64')\n",
    "df[['curbWeight']]=df[['curbWeight']].astype('float64')'''"
   ]
  },
  {
   "cell_type": "markdown",
   "metadata": {},
   "source": [
    "## EDA & Preprocessing\n",
    "Diese Schritte sind in die beiden bisher behandelten Notebooks ausgelagert. Das einzige, was in diesem Notebook gemacht wird ist die Skalierung der Daten. Das hat den Grund dass die skalierten Daten auch wieder rescaled werden müssen. Um hier dann keine Verwirrung zu stiften wird somit ausschließlich hier gescalet."
   ]
  },
  {
   "cell_type": "code",
   "execution_count": 4,
   "metadata": {},
   "outputs": [
    {
     "data": {
      "text/plain": [
       "(205, 70)"
      ]
     },
     "execution_count": 4,
     "metadata": {},
     "output_type": "execute_result"
    }
   ],
   "source": [
    "df.shape"
   ]
  },
  {
   "cell_type": "code",
   "execution_count": 5,
   "metadata": {},
   "outputs": [],
   "source": [
    "from sklearn.preprocessing import LabelEncoder\n",
    "encoder = LabelEncoder()\n",
    "df.numOfCylinders = encoder.fit_transform(df.numOfCylinders)"
   ]
  },
  {
   "cell_type": "markdown",
   "metadata": {},
   "source": [
    "## Horizontaler & vertikaler Cut"
   ]
  },
  {
   "cell_type": "code",
   "execution_count": 6,
   "metadata": {},
   "outputs": [],
   "source": [
    "from sklearn.model_selection import train_test_split\n",
    "\n",
    "X = df.iloc[:, 1:70]\n",
    "Y = df['numOfCylinders']\n",
    "\n"
   ]
  },
  {
   "cell_type": "code",
   "execution_count": 7,
   "metadata": {},
   "outputs": [],
   "source": [
    "# Change y in OHE\n",
    "from keras.utils import np_utils\n",
    "encoder = LabelEncoder()\n",
    "encoder.fit(Y)\n",
    "encoded_Y = encoder.transform(Y)\n",
    "# convert integers to dummy variables (i.e. one hot encoded)\n",
    "Y = np_utils.to_categorical(encoded_Y)"
   ]
  },
  {
   "cell_type": "code",
   "execution_count": 8,
   "metadata": {},
   "outputs": [],
   "source": [
    "X_train, X_test, y_train, y_test = train_test_split(X, Y, test_size=0.2, random_state=42)"
   ]
  },
  {
   "cell_type": "markdown",
   "metadata": {},
   "source": [
    "# Scaling"
   ]
  },
  {
   "cell_type": "code",
   "execution_count": 9,
   "metadata": {},
   "outputs": [],
   "source": [
    "from sklearn.preprocessing import StandardScaler\n",
    "\n",
    "scaler = StandardScaler()\n",
    "\n",
    "scaler.fit(X_train)\n",
    "\n",
    "X_train_scaled = scaler.transform(X_train)\n",
    "X_test_scaled = scaler.transform(X_test)"
   ]
  },
  {
   "cell_type": "code",
   "execution_count": 10,
   "metadata": {},
   "outputs": [],
   "source": [
    "from keras.models import Sequential\n",
    "from keras.layers import Dense\n",
    "\n",
    "model = Sequential()\n",
    "model.add(Dense(69, input_dim=69, activation='relu'))\n",
    "model.add(Dense(45, activation='relu'))\n",
    "model.add(Dense(25, activation='relu'))\n",
    "model.add(Dense(7, activation='sigmoid'))"
   ]
  },
  {
   "cell_type": "code",
   "execution_count": 11,
   "metadata": {},
   "outputs": [],
   "source": [
    "model.compile(loss='binary_crossentropy', \n",
    "              optimizer='adam', \n",
    "              metrics=['accuracy'])"
   ]
  },
  {
   "cell_type": "code",
   "execution_count": 12,
   "metadata": {},
   "outputs": [
    {
     "name": "stdout",
     "output_type": "stream",
     "text": [
      "Train on 164 samples, validate on 41 samples\n",
      "Epoch 1/40\n",
      "164/164 [==============================] - 0s 1ms/step - loss: 0.6603 - accuracy: 0.6098 - val_loss: 0.5883 - val_accuracy: 0.7491\n",
      "Epoch 2/40\n",
      "164/164 [==============================] - 0s 104us/step - loss: 0.5519 - accuracy: 0.8162 - val_loss: 0.4929 - val_accuracy: 0.8606\n",
      "Epoch 3/40\n",
      "164/164 [==============================] - 0s 122us/step - loss: 0.4615 - accuracy: 0.8998 - val_loss: 0.4103 - val_accuracy: 0.9094\n",
      "Epoch 4/40\n",
      "164/164 [==============================] - 0s 122us/step - loss: 0.3750 - accuracy: 0.9355 - val_loss: 0.3351 - val_accuracy: 0.9268\n",
      "Epoch 5/40\n",
      "164/164 [==============================] - 0s 116us/step - loss: 0.2955 - accuracy: 0.9451 - val_loss: 0.2737 - val_accuracy: 0.9233\n",
      "Epoch 6/40\n",
      "164/164 [==============================] - 0s 116us/step - loss: 0.2296 - accuracy: 0.9486 - val_loss: 0.2308 - val_accuracy: 0.9199\n",
      "Epoch 7/40\n",
      "164/164 [==============================] - 0s 110us/step - loss: 0.1804 - accuracy: 0.9460 - val_loss: 0.2051 - val_accuracy: 0.9199\n",
      "Epoch 8/40\n",
      "164/164 [==============================] - 0s 110us/step - loss: 0.1479 - accuracy: 0.9486 - val_loss: 0.1927 - val_accuracy: 0.9199\n",
      "Epoch 9/40\n",
      "164/164 [==============================] - 0s 98us/step - loss: 0.1263 - accuracy: 0.9512 - val_loss: 0.1852 - val_accuracy: 0.9338\n",
      "Epoch 10/40\n",
      "164/164 [==============================] - 0s 118us/step - loss: 0.1105 - accuracy: 0.9599 - val_loss: 0.1753 - val_accuracy: 0.9408\n",
      "Epoch 11/40\n",
      "164/164 [==============================] - 0s 148us/step - loss: 0.0989 - accuracy: 0.9643 - val_loss: 0.1698 - val_accuracy: 0.9443\n",
      "Epoch 12/40\n",
      "164/164 [==============================] - 0s 146us/step - loss: 0.0886 - accuracy: 0.9686 - val_loss: 0.1657 - val_accuracy: 0.9443\n",
      "Epoch 13/40\n",
      "164/164 [==============================] - 0s 110us/step - loss: 0.0803 - accuracy: 0.9730 - val_loss: 0.1623 - val_accuracy: 0.9443\n",
      "Epoch 14/40\n",
      "164/164 [==============================] - 0s 146us/step - loss: 0.0728 - accuracy: 0.9765 - val_loss: 0.1581 - val_accuracy: 0.9443\n",
      "Epoch 15/40\n",
      "164/164 [==============================] - 0s 122us/step - loss: 0.0660 - accuracy: 0.9791 - val_loss: 0.1539 - val_accuracy: 0.9443\n",
      "Epoch 16/40\n",
      "164/164 [==============================] - 0s 116us/step - loss: 0.0601 - accuracy: 0.9817 - val_loss: 0.1503 - val_accuracy: 0.9512\n",
      "Epoch 17/40\n",
      "164/164 [==============================] - 0s 122us/step - loss: 0.0541 - accuracy: 0.9817 - val_loss: 0.1483 - val_accuracy: 0.9512\n",
      "Epoch 18/40\n",
      "164/164 [==============================] - 0s 116us/step - loss: 0.0490 - accuracy: 0.9834 - val_loss: 0.1475 - val_accuracy: 0.9512\n",
      "Epoch 19/40\n",
      "164/164 [==============================] - 0s 98us/step - loss: 0.0449 - accuracy: 0.9869 - val_loss: 0.1468 - val_accuracy: 0.9547\n",
      "Epoch 20/40\n",
      "164/164 [==============================] - 0s 116us/step - loss: 0.0409 - accuracy: 0.9878 - val_loss: 0.1453 - val_accuracy: 0.9617\n",
      "Epoch 21/40\n",
      "164/164 [==============================] - 0s 110us/step - loss: 0.0372 - accuracy: 0.9878 - val_loss: 0.1437 - val_accuracy: 0.9617\n",
      "Epoch 22/40\n",
      "164/164 [==============================] - 0s 134us/step - loss: 0.0340 - accuracy: 0.9895 - val_loss: 0.1421 - val_accuracy: 0.9617\n",
      "Epoch 23/40\n",
      "164/164 [==============================] - 0s 110us/step - loss: 0.0309 - accuracy: 0.9930 - val_loss: 0.1404 - val_accuracy: 0.9617\n",
      "Epoch 24/40\n",
      "164/164 [==============================] - 0s 134us/step - loss: 0.0279 - accuracy: 0.9939 - val_loss: 0.1386 - val_accuracy: 0.9617\n",
      "Epoch 25/40\n",
      "164/164 [==============================] - 0s 134us/step - loss: 0.0255 - accuracy: 0.9948 - val_loss: 0.1360 - val_accuracy: 0.9617\n",
      "Epoch 26/40\n",
      "164/164 [==============================] - 0s 116us/step - loss: 0.0230 - accuracy: 0.9956 - val_loss: 0.1316 - val_accuracy: 0.9721\n",
      "Epoch 27/40\n",
      "164/164 [==============================] - 0s 122us/step - loss: 0.0212 - accuracy: 0.9965 - val_loss: 0.1296 - val_accuracy: 0.9791\n",
      "Epoch 28/40\n",
      "164/164 [==============================] - 0s 134us/step - loss: 0.0189 - accuracy: 0.9965 - val_loss: 0.1307 - val_accuracy: 0.9791\n",
      "Epoch 29/40\n",
      "164/164 [==============================] - 0s 116us/step - loss: 0.0177 - accuracy: 0.9983 - val_loss: 0.1315 - val_accuracy: 0.9826\n",
      "Epoch 30/40\n",
      "164/164 [==============================] - 0s 128us/step - loss: 0.0163 - accuracy: 0.9991 - val_loss: 0.1329 - val_accuracy: 0.9826\n",
      "Epoch 31/40\n",
      "164/164 [==============================] - 0s 171us/step - loss: 0.0148 - accuracy: 0.9991 - val_loss: 0.1310 - val_accuracy: 0.9826\n",
      "Epoch 32/40\n",
      "164/164 [==============================] - 0s 128us/step - loss: 0.0134 - accuracy: 0.9991 - val_loss: 0.1301 - val_accuracy: 0.9826\n",
      "Epoch 33/40\n",
      "164/164 [==============================] - 0s 165us/step - loss: 0.0122 - accuracy: 1.0000 - val_loss: 0.1302 - val_accuracy: 0.9826\n",
      "Epoch 34/40\n",
      "164/164 [==============================] - 0s 134us/step - loss: 0.0111 - accuracy: 1.0000 - val_loss: 0.1307 - val_accuracy: 0.9826\n",
      "Epoch 35/40\n",
      "164/164 [==============================] - 0s 140us/step - loss: 0.0102 - accuracy: 0.9991 - val_loss: 0.1315 - val_accuracy: 0.9826\n",
      "Epoch 36/40\n",
      "164/164 [==============================] - 0s 146us/step - loss: 0.0094 - accuracy: 0.9991 - val_loss: 0.1328 - val_accuracy: 0.9826\n",
      "Epoch 37/40\n",
      "164/164 [==============================] - 0s 140us/step - loss: 0.0088 - accuracy: 0.9991 - val_loss: 0.1338 - val_accuracy: 0.9826\n",
      "Epoch 38/40\n",
      "164/164 [==============================] - 0s 128us/step - loss: 0.0081 - accuracy: 1.0000 - val_loss: 0.1341 - val_accuracy: 0.9826\n",
      "Epoch 39/40\n",
      "164/164 [==============================] - 0s 140us/step - loss: 0.0076 - accuracy: 1.0000 - val_loss: 0.1344 - val_accuracy: 0.9826\n",
      "Epoch 40/40\n",
      "164/164 [==============================] - 0s 122us/step - loss: 0.0072 - accuracy: 1.0000 - val_loss: 0.1388 - val_accuracy: 0.9826\n"
     ]
    }
   ],
   "source": [
    "history = model.fit(X_train_scaled, y_train, epochs=40, validation_data=(X_test_scaled, y_test))"
   ]
  },
  {
   "cell_type": "code",
   "execution_count": 13,
   "metadata": {},
   "outputs": [
    {
     "name": "stdout",
     "output_type": "stream",
     "text": [
      "41/41 [==============================] - 0s 146us/step\n",
      "Test loss: 393.68040429092036\n",
      "Test accuracy: 0.9198606610298157\n"
     ]
    }
   ],
   "source": [
    "scores = model.evaluate(X_test, y_test, verbose=1)\n",
    "print('Test loss:', scores[0])\n",
    "print('Test accuracy:', scores[1])"
   ]
  },
  {
   "cell_type": "code",
   "execution_count": 14,
   "metadata": {},
   "outputs": [
    {
     "data": {
      "image/png": "[encoded data removed]",
      "text/plain": [
       "<Figure size 432x288 with 1 Axes>"
      ]
     },
     "metadata": {
      "needs_background": "light"
     },
     "output_type": "display_data"
    }
   ],
   "source": [
    "import matplotlib.pyplot as plt\n",
    "plt.plot(history.history['accuracy'])\n",
    "plt.plot(history.history['val_accuracy'])\n",
    "plt.title('Model accuracy')\n",
    "plt.ylabel('Accuracy')\n",
    "plt.xlabel('Epoch')\n",
    "plt.legend(['Train', 'Test'], loc='upper left')\n",
    "plt.show()"
   ]
  },
  {
   "cell_type": "code",
   "execution_count": null,
   "metadata": {},
   "outputs": [],
   "source": []
  },
  {
   "cell_type": "code",
   "execution_count": 15,
   "metadata": {},
   "outputs": [
    {
     "data": {
      "text/plain": [
       "<matplotlib.legend.Legend at 0x120cbad7cf8>"
      ]
     },
     "execution_count": 15,
     "metadata": {},
     "output_type": "execute_result"
    },
    {
     "data": {
      "image/png": "[encoded data removed]",
      "text/plain": [
       "<Figure size 432x288 with 1 Axes>"
      ]
     },
     "metadata": {
      "needs_background": "light"
     },
     "output_type": "display_data"
    }
   ],
   "source": [
    "# Plot training & validation loss values\n",
    "plt.plot(history.history['loss'])\n",
    "plt.plot(history.history['val_loss'])\n",
    "plt.title('Model loss')\n",
    "plt.ylabel('Loss')\n",
    "plt.xlabel('Epoch')\n",
    "plt.legend(['Train', 'Test'], loc='upper left')"
   ]
  },
  {
   "cell_type": "markdown",
   "metadata": {},
   "source": [
    "# Interpreatation\n",
    "Das gegebenen Modell lernt recht zügig. So ist bereits ach 5 Epochen eine Accuracy von höher als 90% zu verzeichnen und ab ca. 25 Epochsen hat sich die Test-Accuracy bei 95% eingependelt. Der Test-Loss hingegen sinkt zu Beginn sehr stark und findet sich  bei ab Epoche 15  ca 0.2.\n",
    "\n",
    "Druch das Modell konnte somit eine overall-Accuracy von "
   ]
  },
  {
   "cell_type": "code",
   "execution_count": 18,
   "metadata": {},
   "outputs": [
    {
     "name": "stdout",
     "output_type": "stream",
     "text": [
      "Predicted: [0. 0. 1. 0. 0. 0. 0.], actual 0.0\n"
     ]
    }
   ],
   "source": [
    "# Predictions mit dem NN\n",
    "from numpy import round\n",
    "y_predicted = model.predict(X_test)\n",
    "print('Predicted: {}, actual {}'.format(round(y_predicted[0]), y_test.ravel()[0]))"
   ]
  },
  {
   "cell_type": "code",
   "execution_count": 17,
   "metadata": {},
   "outputs": [
    {
     "name": "stdout",
     "output_type": "stream",
     "text": [
      "41/41 [==============================] - 0s 220us/step\n",
      "Loss: 393.68040429092036, accuracy: 0.9198606610298157\n"
     ]
    }
   ],
   "source": [
    "loss, accuracy = model.evaluate(X_test, y_test)\n",
    "\n",
    "print('Loss: {}, accuracy: {}'.format(loss, accuracy))"
   ]
  },
  {
   "cell_type": "code",
   "execution_count": null,
   "metadata": {},
   "outputs": [],
   "source": [
    "# Interpreatiation"
   ]
  }
 ],
 "metadata": {
  "kernelspec": {
   "display_name": "Python 3",
   "language": "python",
   "name": "python3"
  },
  "language_info": {
   "codemirror_mode": {
    "name": "ipython",
    "version": 3
   },
   "file_extension": ".py",
   "mimetype": "text/x-python",
   "name": "python",
   "nbconvert_exporter": "python",
   "pygments_lexer": "ipython3",
   "version": "3.6.9"
  }
 },
 "nbformat": 4,
 "nbformat_minor": 2
}
