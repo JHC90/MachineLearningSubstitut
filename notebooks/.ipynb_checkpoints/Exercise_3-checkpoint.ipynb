{
 "cells": [
  {
   "cell_type": "markdown",
   "metadata": {},
   "source": [
    "# Aufgabe 3\n",
    "Verwendet im letzten Teil des Übungsblatts entweder eure Lösung aus Teil 1 oder aus Teil 2 und ersetzt eure\n",
    "ursprünglich entwickelten Modelle durch ein künstliches Neuronales Netz (Fast Forward) mit zumindest 2\n",
    "hidden Layern. Verwendet hierfür tensorflow und keras. Tested die Performanz eures Netz mit Hilfe eurer\n",
    "Testdaten und diskutiert eure Ergebnisse. Auch hier könnt ihr, soweit möglich, auf die Vorverarbeitunsschritte\n",
    "eurer ersten Lösung zurückgreifen."
   ]
  },
  {
   "cell_type": "markdown",
   "metadata": {},
   "source": [
    "#### Wort zum Sonntag\n",
    "Aus der Aufgabenstellung heraus versuchen wir die Anzahl der Zylinder zu schätzen. Nachdems es mehr als zwei mögliche ausprägungen (das wäre binär) in dem Feature Zylinderanzahl gibt, ist es eine Multiclass-Classification. Ein möglicher Spicker hierfür findet sich unter dem Link von [MachineLearnMastery | Multiclass Classification](https://machinelearningmastery.com/multi-class-classification-tutorial-keras-deep-learning-library/) und dem inclass notebook von dem Kurs [inclass notebook von dem Kurs](https://gitlab.web.fh-kufstein.ac.at/kohleggermichael/ml4ds_dsia18_g1/-/blob/master/Material%20zu%20Lab%2003/Lab03__Deep_Learning__LSTM.ipynb)"
   ]
  },
  {
   "cell_type": "markdown",
   "metadata": {},
   "source": [
    "## Bibliotheken"
   ]
  },
  {
   "cell_type": "code",
   "execution_count": 32,
   "metadata": {},
   "outputs": [],
   "source": [
    "import pandas as pd\n",
    "import numpy as np\n",
    "from sklearn.model_selection import train_test_split\n",
    "from sklearn.preprocessing import RobustScaler\n",
    "import seaborn as sns\n",
    "from matplotlib import pyplot as plt\n",
    "\n",
    "\n",
    "import seaborn as sns\n",
    "from matplotlib import pyplot as plt"
   ]
  },
  {
   "cell_type": "code",
   "execution_count": 33,
   "metadata": {},
   "outputs": [],
   "source": [
    "from __future__ import print_function\n",
    "import keras\n",
    "from keras.models import Sequential\n",
    "from keras.layers import Dense, Dropout\n",
    "from keras.optimizers import RMSprop\n",
    "from keras.models import model_from_json\n",
    "from pathlib import Path\n",
    "import matplotlib.pyplot as plt\n",
    "import tensorflow as tf\n",
    "from keras.utils import np_utils\n",
    "from keras.callbacks import TensorBoard\n",
    "from time import time"
   ]
  },
  {
   "cell_type": "markdown",
   "metadata": {},
   "source": [
    "# Data-Loading\n",
    "Die Daten wurden als gesamtes in dem Data-Preparation Notebook vorverarbeitet. Diese Vorverarbeiteten Daten werden nun hier geladen und entsprechend nach der jweiligen Output-Variable gesplitet."
   ]
  },
  {
   "cell_type": "code",
   "execution_count": 34,
   "metadata": {},
   "outputs": [
    {
     "data": {
      "text/plain": [
       "\"df[['symboling']]=df[['symboling']].astype('float64')\\ndf[['normalizedLosses']]=df[['normalizedLosses']].astype('float64')\\ndf[['peakRpm']]=df[['peakRpm']].astype('float64')\\ndf[['bore']]=df[['bore']].astype('float64')\\ndf[['stroke']]=df[['stroke']].astype('float64')\\ndf[['engineSize']]=df[['engineSize']].astype('float64')\\ndf[['cityMpg']]=df[['cityMpg']].astype('float64')\\ndf[['highwayMpg']]=df[['highwayMpg']].astype('float64')\\ndf[['curbWeight']]=df[['curbWeight']].astype('float64')\""
      ]
     },
     "execution_count": 34,
     "metadata": {},
     "output_type": "execute_result"
    }
   ],
   "source": [
    "df = pd.read_csv('../data/clf_df_prepared.csv',delimiter=',',encoding='utf-8', index_col=[0])\n",
    "#df.info() # => Ausschließlich float64 // symboling = insurance risk = position 0\n",
    "'''df[['symboling']]=df[['symboling']].astype('float64')\n",
    "df[['normalizedLosses']]=df[['normalizedLosses']].astype('float64')\n",
    "df[['peakRpm']]=df[['peakRpm']].astype('float64')\n",
    "df[['bore']]=df[['bore']].astype('float64')\n",
    "df[['stroke']]=df[['stroke']].astype('float64')\n",
    "df[['engineSize']]=df[['engineSize']].astype('float64')\n",
    "df[['cityMpg']]=df[['cityMpg']].astype('float64')\n",
    "df[['highwayMpg']]=df[['highwayMpg']].astype('float64')\n",
    "df[['curbWeight']]=df[['curbWeight']].astype('float64')'''"
   ]
  },
  {
   "cell_type": "markdown",
   "metadata": {},
   "source": [
    "## EDA & Preprocessing\n",
    "Diese Schritte sind in die beiden bisher behandelten Notebooks ausgelagert. Das einzige, was in diesem Notebook gemacht wird ist die Skalierung der Daten. Das hat den Grund dass die skalierten Daten auch wieder rescaled werden müssen. Um hier dann keine Verwirrung zu stiften wird somit ausschließlich hier gescalet."
   ]
  },
  {
   "cell_type": "code",
   "execution_count": 35,
   "metadata": {},
   "outputs": [
    {
     "data": {
      "text/plain": [
       "(205, 70)"
      ]
     },
     "execution_count": 35,
     "metadata": {},
     "output_type": "execute_result"
    }
   ],
   "source": [
    "df.shape"
   ]
  },
  {
   "cell_type": "code",
   "execution_count": 36,
   "metadata": {},
   "outputs": [],
   "source": [
    "from sklearn.preprocessing import LabelEncoder\n",
    "encoder = LabelEncoder()\n",
    "df.numOfCylinders = encoder.fit_transform(df.numOfCylinders)"
   ]
  },
  {
   "cell_type": "markdown",
   "metadata": {},
   "source": [
    "## Horizontaler & vertikaler Cut"
   ]
  },
  {
   "cell_type": "code",
   "execution_count": 37,
   "metadata": {},
   "outputs": [],
   "source": [
    "from sklearn.model_selection import train_test_split\n",
    "\n",
    "X = df.iloc[:, 1:70]\n",
    "Y = df['numOfCylinders']"
   ]
  },
  {
   "cell_type": "markdown",
   "metadata": {},
   "source": [
    "Die Output-Variable ist eine Multi-Class. Daher muss im Kontext des NN hier ein OHE vorgenommen werden."
   ]
  },
  {
   "cell_type": "code",
   "execution_count": 38,
   "metadata": {},
   "outputs": [],
   "source": [
    "# Change y in OHE\n",
    "encoder = LabelEncoder()\n",
    "encoder.fit(Y)\n",
    "encoded_Y = encoder.transform(Y)\n",
    "# convert integers to dummy variables (i.e. one hot encoded)\n",
    "Y = np_utils.to_categorical(encoded_Y)"
   ]
  },
  {
   "cell_type": "code",
   "execution_count": 39,
   "metadata": {},
   "outputs": [],
   "source": [
    "X_train, X_test, y_train, y_test = train_test_split(X, Y, test_size=0.2, random_state=42)"
   ]
  },
  {
   "cell_type": "markdown",
   "metadata": {},
   "source": [
    "# Scaling"
   ]
  },
  {
   "cell_type": "code",
   "execution_count": 40,
   "metadata": {},
   "outputs": [],
   "source": [
    "from sklearn.preprocessing import StandardScaler\n",
    "\n",
    "scaler = StandardScaler()\n",
    "\n",
    "scaler.fit(X_train)\n",
    "\n",
    "X_train_scaled = scaler.transform(X_train)\n",
    "X_test_scaled = scaler.transform(X_test)"
   ]
  },
  {
   "cell_type": "markdown",
   "metadata": {},
   "source": [
    "# Definition des NN\n",
    "Hier wird jedes Modell angelegt. Aus der Aufgabenstellung heraus wollen wir ein Feed Foward Netzwerk aufbauen, ergo verwende ich das \"Sequential\" aus dem Paket Keras.model. Via add füge ich neue Schichten hinzu. Ich habe mich dazu entschlossen 69 Neuronen im ersten Layer zu verwenden, da ich in meinem gegeben Ansatz hier 69 input Feature verwende . Als Aktivierung verwende ich die Relu.\n",
    "\n",
    "Layer 2 & 3 werden von der Neuronen"
   ]
  },
  {
   "cell_type": "code",
   "execution_count": 41,
   "metadata": {},
   "outputs": [],
   "source": [
    "from keras.models import Sequential\n",
    "from keras.layers import Dense\n",
    "\n",
    "model = Sequential()\n",
    "model.add(Dense(69, input_dim=69, activation='relu'))\n",
    "model.add(Dense(45, activation='relu'))\n",
    "model.add(Dense(25, activation='relu'))\n",
    "model.add(Dense(7, activation='sigmoid'))"
   ]
  },
  {
   "cell_type": "markdown",
   "metadata": {},
   "source": [
    "# Implementing Tensorboard"
   ]
  },
  {
   "cell_type": "code",
   "execution_count": 42,
   "metadata": {},
   "outputs": [],
   "source": [
    "# Create a TensorBoard instance with the path to the logs directory\n",
    "tensorboard = TensorBoard(log_dir='.\\logs\\{}'.format(time()))"
   ]
  },
  {
   "cell_type": "markdown",
   "metadata": {},
   "source": [
    "jetzt im enstpechenden Folder noch den cmd befehl \"tensorboard --logdir=./logs\" // halt darauf achten dass logs eben auch das ensprechende Trifft wo es auch hin soll. ab dem Zeitpunkt ist die Analyse auch unter http://localhost:6006/ erreichbar\n"
   ]
  },
  {
   "cell_type": "markdown",
   "metadata": {},
   "source": [
    "# Compile\n",
    "Im gegensatz zu dem Bsp aus dem Inclass notbeook verwende ich hier die categorial Crossentropy, da ich mehrere Klassen vorherzusagen habe"
   ]
  },
  {
   "cell_type": "code",
   "execution_count": null,
   "metadata": {},
   "outputs": [],
   "source": []
  },
  {
   "cell_type": "code",
   "execution_count": 43,
   "metadata": {},
   "outputs": [],
   "source": [
    "model.compile(loss='categorical_crossentropy', \n",
    "              optimizer='adam', \n",
    "              metrics=['accuracy'])\n",
    "\n"
   ]
  },
  {
   "cell_type": "code",
   "execution_count": 44,
   "metadata": {},
   "outputs": [
    {
     "name": "stdout",
     "output_type": "stream",
     "text": [
      "Train on 164 samples, validate on 41 samples\n",
      "Epoch 1/40\n",
      "164/164 [==============================] - 0s 1ms/step - loss: 2.2439 - accuracy: 0.0305 - val_loss: 1.9849 - val_accuracy: 0.0976\n",
      "Epoch 2/40\n",
      "164/164 [==============================] - 0s 116us/step - loss: 1.9428 - accuracy: 0.2073 - val_loss: 1.8154 - val_accuracy: 0.4878\n",
      "Epoch 3/40\n",
      "164/164 [==============================] - 0s 122us/step - loss: 1.7510 - accuracy: 0.6220 - val_loss: 1.6767 - val_accuracy: 0.7805\n",
      "Epoch 4/40\n",
      "164/164 [==============================] - 0s 116us/step - loss: 1.5962 - accuracy: 0.8415 - val_loss: 1.5481 - val_accuracy: 0.7561\n",
      "Epoch 5/40\n",
      "164/164 [==============================] - 0s 140us/step - loss: 1.4422 - accuracy: 0.8598 - val_loss: 1.4143 - val_accuracy: 0.7561\n",
      "Epoch 6/40\n",
      "164/164 [==============================] - 0s 165us/step - loss: 1.2828 - accuracy: 0.8598 - val_loss: 1.2818 - val_accuracy: 0.7561\n",
      "Epoch 7/40\n",
      "164/164 [==============================] - 0s 116us/step - loss: 1.1142 - accuracy: 0.8476 - val_loss: 1.1522 - val_accuracy: 0.7561\n",
      "Epoch 8/40\n",
      "164/164 [==============================] - 0s 128us/step - loss: 0.9399 - accuracy: 0.8110 - val_loss: 1.0232 - val_accuracy: 0.7073\n",
      "Epoch 9/40\n",
      "164/164 [==============================] - 0s 159us/step - loss: 0.7693 - accuracy: 0.8049 - val_loss: 0.9227 - val_accuracy: 0.7073\n",
      "Epoch 10/40\n",
      "164/164 [==============================] - 0s 128us/step - loss: 0.6207 - accuracy: 0.8049 - val_loss: 0.8616 - val_accuracy: 0.7073\n",
      "Epoch 11/40\n",
      "164/164 [==============================] - 0s 128us/step - loss: 0.5080 - accuracy: 0.8049 - val_loss: 0.8423 - val_accuracy: 0.7073\n",
      "Epoch 12/40\n",
      "164/164 [==============================] - 0s 122us/step - loss: 0.4333 - accuracy: 0.8049 - val_loss: 0.8271 - val_accuracy: 0.7073\n",
      "Epoch 13/40\n",
      "164/164 [==============================] - 0s 128us/step - loss: 0.3823 - accuracy: 0.8049 - val_loss: 0.8169 - val_accuracy: 0.7073\n",
      "Epoch 14/40\n",
      "164/164 [==============================] - 0s 116us/step - loss: 0.3435 - accuracy: 0.8110 - val_loss: 0.8048 - val_accuracy: 0.7073\n",
      "Epoch 15/40\n",
      "164/164 [==============================] - 0s 128us/step - loss: 0.3159 - accuracy: 0.8171 - val_loss: 0.7813 - val_accuracy: 0.7073\n",
      "Epoch 16/40\n",
      "164/164 [==============================] - 0s 189us/step - loss: 0.2898 - accuracy: 0.8171 - val_loss: 0.7652 - val_accuracy: 0.7317\n",
      "Epoch 17/40\n",
      "164/164 [==============================] - 0s 146us/step - loss: 0.2674 - accuracy: 0.8415 - val_loss: 0.7580 - val_accuracy: 0.7561\n",
      "Epoch 18/40\n",
      "164/164 [==============================] - 0s 146us/step - loss: 0.2479 - accuracy: 0.8780 - val_loss: 0.7458 - val_accuracy: 0.7561\n",
      "Epoch 19/40\n",
      "164/164 [==============================] - 0s 146us/step - loss: 0.2264 - accuracy: 0.8963 - val_loss: 0.7286 - val_accuracy: 0.7805\n",
      "Epoch 20/40\n",
      "164/164 [==============================] - 0s 134us/step - loss: 0.1989 - accuracy: 0.9146 - val_loss: 0.7134 - val_accuracy: 0.8049\n",
      "Epoch 21/40\n",
      "164/164 [==============================] - 0s 110us/step - loss: 0.1736 - accuracy: 0.9207 - val_loss: 0.7012 - val_accuracy: 0.8293\n",
      "Epoch 22/40\n",
      "164/164 [==============================] - 0s 159us/step - loss: 0.1506 - accuracy: 0.9329 - val_loss: 0.6923 - val_accuracy: 0.8293\n",
      "Epoch 23/40\n",
      "164/164 [==============================] - 0s 183us/step - loss: 0.1297 - accuracy: 0.9329 - val_loss: 0.6804 - val_accuracy: 0.8293\n",
      "Epoch 24/40\n",
      "164/164 [==============================] - 0s 146us/step - loss: 0.1139 - accuracy: 0.9451 - val_loss: 0.6708 - val_accuracy: 0.8293\n",
      "Epoch 25/40\n",
      "164/164 [==============================] - 0s 165us/step - loss: 0.1017 - accuracy: 0.9512 - val_loss: 0.6639 - val_accuracy: 0.8537\n",
      "Epoch 26/40\n",
      "164/164 [==============================] - 0s 140us/step - loss: 0.0912 - accuracy: 0.9573 - val_loss: 0.6688 - val_accuracy: 0.8780\n",
      "Epoch 27/40\n",
      "164/164 [==============================] - 0s 146us/step - loss: 0.0857 - accuracy: 0.9573 - val_loss: 0.6607 - val_accuracy: 0.9024\n",
      "Epoch 28/40\n",
      "164/164 [==============================] - 0s 140us/step - loss: 0.0772 - accuracy: 0.9695 - val_loss: 0.6454 - val_accuracy: 0.9268\n",
      "Epoch 29/40\n",
      "164/164 [==============================] - 0s 140us/step - loss: 0.0690 - accuracy: 0.9756 - val_loss: 0.6379 - val_accuracy: 0.9268\n",
      "Epoch 30/40\n",
      "164/164 [==============================] - 0s 134us/step - loss: 0.0636 - accuracy: 0.9878 - val_loss: 0.6243 - val_accuracy: 0.9268\n",
      "Epoch 31/40\n",
      "164/164 [==============================] - 0s 128us/step - loss: 0.0560 - accuracy: 0.9878 - val_loss: 0.6075 - val_accuracy: 0.9512\n",
      "Epoch 32/40\n",
      "164/164 [==============================] - 0s 128us/step - loss: 0.0492 - accuracy: 0.9878 - val_loss: 0.6054 - val_accuracy: 0.9512\n",
      "Epoch 33/40\n",
      "164/164 [==============================] - 0s 152us/step - loss: 0.0428 - accuracy: 0.9878 - val_loss: 0.6010 - val_accuracy: 0.9512\n",
      "Epoch 34/40\n",
      "164/164 [==============================] - 0s 177us/step - loss: 0.0371 - accuracy: 0.9878 - val_loss: 0.5931 - val_accuracy: 0.9512\n",
      "Epoch 35/40\n",
      "164/164 [==============================] - 0s 201us/step - loss: 0.0320 - accuracy: 0.9939 - val_loss: 0.5862 - val_accuracy: 0.9512\n",
      "Epoch 36/40\n",
      "164/164 [==============================] - 0s 146us/step - loss: 0.0278 - accuracy: 0.9939 - val_loss: 0.5808 - val_accuracy: 0.9512\n",
      "Epoch 37/40\n",
      "164/164 [==============================] - 0s 146us/step - loss: 0.0244 - accuracy: 0.9939 - val_loss: 0.5777 - val_accuracy: 0.9512\n",
      "Epoch 38/40\n",
      "164/164 [==============================] - 0s 195us/step - loss: 0.0221 - accuracy: 0.9939 - val_loss: 0.5786 - val_accuracy: 0.9512\n",
      "Epoch 39/40\n",
      "164/164 [==============================] - 0s 152us/step - loss: 0.0198 - accuracy: 0.9939 - val_loss: 0.5787 - val_accuracy: 0.9512\n",
      "Epoch 40/40\n",
      "164/164 [==============================] - 0s 150us/step - loss: 0.0177 - accuracy: 0.9939 - val_loss: 0.5775 - val_accuracy: 0.9512\n"
     ]
    }
   ],
   "source": [
    "history = model.fit(X_train_scaled, y_train, \n",
    "                    epochs=40, \n",
    "                    validation_data=(X_test_scaled, y_test),\n",
    "                    callbacks=[tensorboard])"
   ]
  },
  {
   "cell_type": "code",
   "execution_count": 45,
   "metadata": {},
   "outputs": [
    {
     "name": "stdout",
     "output_type": "stream",
     "text": [
      "41/41 [==============================] - 0s 122us/step\n",
      "Test loss: nan\n",
      "Test accuracy: 0.024390242993831635\n"
     ]
    }
   ],
   "source": [
    "scores = model.evaluate(X_test, y_test, verbose=1)\n",
    "print('Test loss:', scores[0])\n",
    "print('Test accuracy:', scores[1])"
   ]
  },
  {
   "cell_type": "code",
   "execution_count": 46,
   "metadata": {},
   "outputs": [
    {
     "data": {
      "image/png": "[encoded data removed]",
      "text/plain": [
       "<Figure size 432x288 with 1 Axes>"
      ]
     },
     "metadata": {
      "needs_background": "light"
     },
     "output_type": "display_data"
    }
   ],
   "source": [
    "import matplotlib.pyplot as plt\n",
    "plt.plot(history.history['accuracy'])\n",
    "plt.plot(history.history['val_accuracy'])\n",
    "plt.title('Model accuracy')\n",
    "plt.ylabel('Accuracy')\n",
    "plt.xlabel('Epoch')\n",
    "plt.legend(['Train', 'Test'], loc='upper left')\n",
    "plt.show()"
   ]
  },
  {
   "cell_type": "code",
   "execution_count": 47,
   "metadata": {},
   "outputs": [
    {
     "data": {
      "text/plain": [
       "<matplotlib.legend.Legend at 0x1ed0522e7f0>"
      ]
     },
     "execution_count": 47,
     "metadata": {},
     "output_type": "execute_result"
    },
    {
     "data": {
      "image/png": "[encoded data removed]",
      "text/plain": [
       "<Figure size 432x288 with 1 Axes>"
      ]
     },
     "metadata": {
      "needs_background": "light"
     },
     "output_type": "display_data"
    }
   ],
   "source": [
    "# Plot training & validation loss values\n",
    "plt.plot(history.history['loss'])\n",
    "plt.plot(history.history['val_loss'])\n",
    "plt.title('Model loss')\n",
    "plt.ylabel('Loss')\n",
    "plt.xlabel('Epoch')\n",
    "plt.legend(['Train', 'Test'], loc='upper left')"
   ]
  },
  {
   "cell_type": "markdown",
   "metadata": {},
   "source": [
    "# Interpreatation\n",
    "Das gegebenen Modell lernt performant. So ist bereits ach 5 Epochen eine Accuracy von höher als 80% zu verzeichnen und ab ca. 20 Epochsen hat sich die Test-Accuracy bei 95% eingependelt. Der Test-Loss hingegen sinkt zu Beginn sehr stark. Ab Epoche 30 Scheint diese jeoch Stabil bei 0.1 sich eingepndelt zu haben. "
   ]
  },
  {
   "cell_type": "code",
   "execution_count": null,
   "metadata": {},
   "outputs": [],
   "source": [
    "# Predictions"
   ]
  },
  {
   "cell_type": "code",
   "execution_count": 20,
   "metadata": {},
   "outputs": [
    {
     "ename": "KeyError",
     "evalue": "5",
     "output_type": "error",
     "traceback": [
      "\u001b[1;31m---------------------------------------------------------------------------\u001b[0m",
      "\u001b[1;31mKeyError\u001b[0m                                  Traceback (most recent call last)",
      "\u001b[1;32m~\\.conda\\envs\\Kompensationsarbeit\\lib\\site-packages\\pandas\\core\\indexes\\base.py\u001b[0m in \u001b[0;36mget_loc\u001b[1;34m(self, key, method, tolerance)\u001b[0m\n\u001b[0;32m   2896\u001b[0m             \u001b[1;32mtry\u001b[0m\u001b[1;33m:\u001b[0m\u001b[1;33m\u001b[0m\u001b[1;33m\u001b[0m\u001b[0m\n\u001b[1;32m-> 2897\u001b[1;33m                 \u001b[1;32mreturn\u001b[0m \u001b[0mself\u001b[0m\u001b[1;33m.\u001b[0m\u001b[0m_engine\u001b[0m\u001b[1;33m.\u001b[0m\u001b[0mget_loc\u001b[0m\u001b[1;33m(\u001b[0m\u001b[0mkey\u001b[0m\u001b[1;33m)\u001b[0m\u001b[1;33m\u001b[0m\u001b[1;33m\u001b[0m\u001b[0m\n\u001b[0m\u001b[0;32m   2898\u001b[0m             \u001b[1;32mexcept\u001b[0m \u001b[0mKeyError\u001b[0m\u001b[1;33m:\u001b[0m\u001b[1;33m\u001b[0m\u001b[1;33m\u001b[0m\u001b[0m\n",
      "\u001b[1;32mpandas/_libs/index.pyx\u001b[0m in \u001b[0;36mpandas._libs.index.IndexEngine.get_loc\u001b[1;34m()\u001b[0m\n",
      "\u001b[1;32mpandas/_libs/index.pyx\u001b[0m in \u001b[0;36mpandas._libs.index.IndexEngine.get_loc\u001b[1;34m()\u001b[0m\n",
      "\u001b[1;32mpandas/_libs/hashtable_class_helper.pxi\u001b[0m in \u001b[0;36mpandas._libs.hashtable.PyObjectHashTable.get_item\u001b[1;34m()\u001b[0m\n",
      "\u001b[1;32mpandas/_libs/hashtable_class_helper.pxi\u001b[0m in \u001b[0;36mpandas._libs.hashtable.PyObjectHashTable.get_item\u001b[1;34m()\u001b[0m\n",
      "\u001b[1;31mKeyError\u001b[0m: 5",
      "\nDuring handling of the above exception, another exception occurred:\n",
      "\u001b[1;31mKeyError\u001b[0m                                  Traceback (most recent call last)",
      "\u001b[1;32m<ipython-input-20-27ed79af82b3>\u001b[0m in \u001b[0;36m<module>\u001b[1;34m\u001b[0m\n\u001b[0;32m      1\u001b[0m \u001b[1;31m# Predictions mit dem NN\u001b[0m\u001b[1;33m\u001b[0m\u001b[1;33m\u001b[0m\u001b[1;33m\u001b[0m\u001b[0m\n\u001b[0;32m      2\u001b[0m \u001b[1;32mfrom\u001b[0m \u001b[0mnumpy\u001b[0m \u001b[1;32mimport\u001b[0m \u001b[0mround\u001b[0m\u001b[1;33m\u001b[0m\u001b[1;33m\u001b[0m\u001b[0m\n\u001b[1;32m----> 3\u001b[1;33m \u001b[0my_predicted\u001b[0m \u001b[1;33m=\u001b[0m \u001b[0mmodel\u001b[0m\u001b[1;33m.\u001b[0m\u001b[0mpredict\u001b[0m\u001b[1;33m(\u001b[0m\u001b[0mX_test\u001b[0m\u001b[1;33m[\u001b[0m\u001b[1;36m5\u001b[0m\u001b[1;33m]\u001b[0m\u001b[1;33m)\u001b[0m\u001b[1;33m\u001b[0m\u001b[1;33m\u001b[0m\u001b[0m\n\u001b[0m\u001b[0;32m      4\u001b[0m \u001b[0mprint\u001b[0m\u001b[1;33m(\u001b[0m\u001b[0my_predicted\u001b[0m\u001b[1;33m)\u001b[0m\u001b[1;33m\u001b[0m\u001b[1;33m\u001b[0m\u001b[0m\n",
      "\u001b[1;32m~\\.conda\\envs\\Kompensationsarbeit\\lib\\site-packages\\pandas\\core\\frame.py\u001b[0m in \u001b[0;36m__getitem__\u001b[1;34m(self, key)\u001b[0m\n\u001b[0;32m   2993\u001b[0m             \u001b[1;32mif\u001b[0m \u001b[0mself\u001b[0m\u001b[1;33m.\u001b[0m\u001b[0mcolumns\u001b[0m\u001b[1;33m.\u001b[0m\u001b[0mnlevels\u001b[0m \u001b[1;33m>\u001b[0m \u001b[1;36m1\u001b[0m\u001b[1;33m:\u001b[0m\u001b[1;33m\u001b[0m\u001b[1;33m\u001b[0m\u001b[0m\n\u001b[0;32m   2994\u001b[0m                 \u001b[1;32mreturn\u001b[0m \u001b[0mself\u001b[0m\u001b[1;33m.\u001b[0m\u001b[0m_getitem_multilevel\u001b[0m\u001b[1;33m(\u001b[0m\u001b[0mkey\u001b[0m\u001b[1;33m)\u001b[0m\u001b[1;33m\u001b[0m\u001b[1;33m\u001b[0m\u001b[0m\n\u001b[1;32m-> 2995\u001b[1;33m             \u001b[0mindexer\u001b[0m \u001b[1;33m=\u001b[0m \u001b[0mself\u001b[0m\u001b[1;33m.\u001b[0m\u001b[0mcolumns\u001b[0m\u001b[1;33m.\u001b[0m\u001b[0mget_loc\u001b[0m\u001b[1;33m(\u001b[0m\u001b[0mkey\u001b[0m\u001b[1;33m)\u001b[0m\u001b[1;33m\u001b[0m\u001b[1;33m\u001b[0m\u001b[0m\n\u001b[0m\u001b[0;32m   2996\u001b[0m             \u001b[1;32mif\u001b[0m \u001b[0mis_integer\u001b[0m\u001b[1;33m(\u001b[0m\u001b[0mindexer\u001b[0m\u001b[1;33m)\u001b[0m\u001b[1;33m:\u001b[0m\u001b[1;33m\u001b[0m\u001b[1;33m\u001b[0m\u001b[0m\n\u001b[0;32m   2997\u001b[0m                 \u001b[0mindexer\u001b[0m \u001b[1;33m=\u001b[0m \u001b[1;33m[\u001b[0m\u001b[0mindexer\u001b[0m\u001b[1;33m]\u001b[0m\u001b[1;33m\u001b[0m\u001b[1;33m\u001b[0m\u001b[0m\n",
      "\u001b[1;32m~\\.conda\\envs\\Kompensationsarbeit\\lib\\site-packages\\pandas\\core\\indexes\\base.py\u001b[0m in \u001b[0;36mget_loc\u001b[1;34m(self, key, method, tolerance)\u001b[0m\n\u001b[0;32m   2897\u001b[0m                 \u001b[1;32mreturn\u001b[0m \u001b[0mself\u001b[0m\u001b[1;33m.\u001b[0m\u001b[0m_engine\u001b[0m\u001b[1;33m.\u001b[0m\u001b[0mget_loc\u001b[0m\u001b[1;33m(\u001b[0m\u001b[0mkey\u001b[0m\u001b[1;33m)\u001b[0m\u001b[1;33m\u001b[0m\u001b[1;33m\u001b[0m\u001b[0m\n\u001b[0;32m   2898\u001b[0m             \u001b[1;32mexcept\u001b[0m \u001b[0mKeyError\u001b[0m\u001b[1;33m:\u001b[0m\u001b[1;33m\u001b[0m\u001b[1;33m\u001b[0m\u001b[0m\n\u001b[1;32m-> 2899\u001b[1;33m                 \u001b[1;32mreturn\u001b[0m \u001b[0mself\u001b[0m\u001b[1;33m.\u001b[0m\u001b[0m_engine\u001b[0m\u001b[1;33m.\u001b[0m\u001b[0mget_loc\u001b[0m\u001b[1;33m(\u001b[0m\u001b[0mself\u001b[0m\u001b[1;33m.\u001b[0m\u001b[0m_maybe_cast_indexer\u001b[0m\u001b[1;33m(\u001b[0m\u001b[0mkey\u001b[0m\u001b[1;33m)\u001b[0m\u001b[1;33m)\u001b[0m\u001b[1;33m\u001b[0m\u001b[1;33m\u001b[0m\u001b[0m\n\u001b[0m\u001b[0;32m   2900\u001b[0m         \u001b[0mindexer\u001b[0m \u001b[1;33m=\u001b[0m \u001b[0mself\u001b[0m\u001b[1;33m.\u001b[0m\u001b[0mget_indexer\u001b[0m\u001b[1;33m(\u001b[0m\u001b[1;33m[\u001b[0m\u001b[0mkey\u001b[0m\u001b[1;33m]\u001b[0m\u001b[1;33m,\u001b[0m \u001b[0mmethod\u001b[0m\u001b[1;33m=\u001b[0m\u001b[0mmethod\u001b[0m\u001b[1;33m,\u001b[0m \u001b[0mtolerance\u001b[0m\u001b[1;33m=\u001b[0m\u001b[0mtolerance\u001b[0m\u001b[1;33m)\u001b[0m\u001b[1;33m\u001b[0m\u001b[1;33m\u001b[0m\u001b[0m\n\u001b[0;32m   2901\u001b[0m         \u001b[1;32mif\u001b[0m \u001b[0mindexer\u001b[0m\u001b[1;33m.\u001b[0m\u001b[0mndim\u001b[0m \u001b[1;33m>\u001b[0m \u001b[1;36m1\u001b[0m \u001b[1;32mor\u001b[0m \u001b[0mindexer\u001b[0m\u001b[1;33m.\u001b[0m\u001b[0msize\u001b[0m \u001b[1;33m>\u001b[0m \u001b[1;36m1\u001b[0m\u001b[1;33m:\u001b[0m\u001b[1;33m\u001b[0m\u001b[1;33m\u001b[0m\u001b[0m\n",
      "\u001b[1;32mpandas/_libs/index.pyx\u001b[0m in \u001b[0;36mpandas._libs.index.IndexEngine.get_loc\u001b[1;34m()\u001b[0m\n",
      "\u001b[1;32mpandas/_libs/index.pyx\u001b[0m in \u001b[0;36mpandas._libs.index.IndexEngine.get_loc\u001b[1;34m()\u001b[0m\n",
      "\u001b[1;32mpandas/_libs/hashtable_class_helper.pxi\u001b[0m in \u001b[0;36mpandas._libs.hashtable.PyObjectHashTable.get_item\u001b[1;34m()\u001b[0m\n",
      "\u001b[1;32mpandas/_libs/hashtable_class_helper.pxi\u001b[0m in \u001b[0;36mpandas._libs.hashtable.PyObjectHashTable.get_item\u001b[1;34m()\u001b[0m\n",
      "\u001b[1;31mKeyError\u001b[0m: 5"
     ]
    }
   ],
   "source": [
    "# Predictions mit dem NN\n",
    "from numpy import round\n",
    "y_predicted = model.predict(X_test[5])\n",
    "print(y_predicted)\n"
   ]
  },
  {
   "cell_type": "code",
   "execution_count": null,
   "metadata": {},
   "outputs": [],
   "source": [
    "loss, accuracy = model.evaluate(X_test, y_test)\n",
    "\n",
    "print('Loss: {}, accuracy: {}'.format(loss, accuracy))"
   ]
  },
  {
   "cell_type": "code",
   "execution_count": null,
   "metadata": {},
   "outputs": [],
   "source": [
    "# Interpreatiation"
   ]
  }
 ],
 "metadata": {
  "kernelspec": {
   "display_name": "Python 3",
   "language": "python",
   "name": "python3"
  },
  "language_info": {
   "codemirror_mode": {
    "name": "ipython",
    "version": 3
   },
   "file_extension": ".py",
   "mimetype": "text/x-python",
   "name": "python",
   "nbconvert_exporter": "python",
   "pygments_lexer": "ipython3",
   "version": "3.6.9"
  }
 },
 "nbformat": 4,
 "nbformat_minor": 2
}
