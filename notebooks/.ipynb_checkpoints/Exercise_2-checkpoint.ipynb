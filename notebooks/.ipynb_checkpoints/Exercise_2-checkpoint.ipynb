{
 "cells": [
  {
   "cell_type": "markdown",
   "metadata": {},
   "source": [
    "# Aufgabe 2\n",
    "Verwendet in diesem Teil des Übungsblatts das Datenset um die Zylinderzahl der Fahrzeuge zu schätzen.\n",
    "Behandelt die Variable num-of-cylinders dazu als kategoriales Merkmal. Ihr könnt dabei auf die\n",
    "Vorverarbeitungsschritte aus dem ersten Teil (soweit möglich) aufbauen. Entwickelt auch hier (mindestens)\n",
    "zwei Modelle auf Basis unterschiedlicher sklearn Klassifizierungsalgorithmen. Achtet auch hier auf eine\n",
    "saubere Trennung von Trainings- und Testdaten und interpretiert eure Ergebnisse/Scores."
   ]
  },
  {
   "cell_type": "markdown",
   "metadata": {},
   "source": [
    "#### Wort zum Sonntag\n",
    "Ich habe deine Anmerkung \"Soviel wie möglich aus den bisherigen Notebooks wiederverwenden\" sehr genau genommen."
   ]
  },
  {
   "cell_type": "markdown",
   "metadata": {},
   "source": [
    "## Bibliotheken"
   ]
  },
  {
   "cell_type": "code",
   "execution_count": 1,
   "metadata": {},
   "outputs": [],
   "source": [
    "import pandas as pd\n",
    "import numpy as np\n",
    "from sklearn.model_selection import train_test_split\n",
    "from sklearn.preprocessing import RobustScaler\n",
    "import seaborn as sns\n",
    "from matplotlib import pyplot as plt\n",
    "\n",
    "from sklearn.neighbors import KNeighborsClassifier \n",
    "from sklearn.svm import SVC \n",
    "from sklearn.gaussian_process import GaussianProcessClassifier \n",
    "#from sklearn.gaussian_process.kernels import RBF \n",
    "from sklearn.tree import DecisionTreeClassifier \n",
    "from sklearn.ensemble import RandomForestClassifier, AdaBoostClassifier \n",
    "from sklearn.naive_bayes import GaussianNB \n",
    "from sklearn.discriminant_analysis import QuadraticDiscriminantAnalysis \n",
    "from sklearn.linear_model import SGDClassifier \n",
    "#from sklearn.linear_model import Perceptron \n",
    "#import tensorflow as tf\n",
    "from sklearn.metrics import confusion_matrix\n",
    "\n",
    "import seaborn as sns\n",
    "from matplotlib import pyplot as plt"
   ]
  },
  {
   "cell_type": "markdown",
   "metadata": {},
   "source": [
    "# Data-Loading\n",
    "Die Daten wurden als gesamtes in dem Data-Preparation Notebook vorverarbeitet. Diese Vorverarbeiteten Daten werden nun hier geladen und entsprechend nach der jweiligen Output-Variable gesplitet."
   ]
  },
  {
   "cell_type": "code",
   "execution_count": 2,
   "metadata": {},
   "outputs": [
    {
     "data": {
      "text/plain": [
       "\"df[['symboling']]=df[['symboling']].astype('float64')\\ndf[['normalizedLosses']]=df[['normalizedLosses']].astype('float64')\\ndf[['peakRpm']]=df[['peakRpm']].astype('float64')\\ndf[['bore']]=df[['bore']].astype('float64')\\ndf[['stroke']]=df[['stroke']].astype('float64')\\ndf[['engineSize']]=df[['engineSize']].astype('float64')\\ndf[['cityMpg']]=df[['cityMpg']].astype('float64')\\ndf[['highwayMpg']]=df[['highwayMpg']].astype('float64')\\ndf[['curbWeight']]=df[['curbWeight']].astype('float64')\""
      ]
     },
     "execution_count": 2,
     "metadata": {},
     "output_type": "execute_result"
    }
   ],
   "source": [
    "df = pd.read_csv('../data/clf_df_prepared.csv',delimiter=',',encoding='utf-8', index_col=[0])\n",
    "#df.info() # => Ausschließlich float64 // symboling = insurance risk = position 0\n",
    "'''df[['symboling']]=df[['symboling']].astype('float64')\n",
    "df[['normalizedLosses']]=df[['normalizedLosses']].astype('float64')\n",
    "df[['peakRpm']]=df[['peakRpm']].astype('float64')\n",
    "df[['bore']]=df[['bore']].astype('float64')\n",
    "df[['stroke']]=df[['stroke']].astype('float64')\n",
    "df[['engineSize']]=df[['engineSize']].astype('float64')\n",
    "df[['cityMpg']]=df[['cityMpg']].astype('float64')\n",
    "df[['highwayMpg']]=df[['highwayMpg']].astype('float64')\n",
    "df[['curbWeight']]=df[['curbWeight']].astype('float64')'''"
   ]
  },
  {
   "cell_type": "markdown",
   "metadata": {},
   "source": [
    "## EDA & Preprocessing\n",
    "Diese Schritte sind in die beiden bisher behandelten Notebooks ausgelagert. Das einzige, was in diesem Notebook gemacht wird ist die Skalierung der Daten. Das hat den Grund dass die skalierten Daten auch wieder rescaled werden müssen. Um hier dann keine Verwirrung zu stiften wird somit ausschließlich hier gescalet."
   ]
  },
  {
   "cell_type": "markdown",
   "metadata": {},
   "source": [
    "## Horizontaler & vertikaler Cut"
   ]
  },
  {
   "cell_type": "code",
   "execution_count": 3,
   "metadata": {},
   "outputs": [],
   "source": [
    "input_features = list(df.columns)\n",
    "in_features = list(range(1, len(input_features)))\n",
    "out_feature = [0]"
   ]
  },
  {
   "cell_type": "code",
   "execution_count": 4,
   "metadata": {},
   "outputs": [],
   "source": [
    "input_df = df.iloc[:,in_features]\n",
    "output_df = df.iloc[:,out_feature]\n",
    "inputTitles = (list(input_df.columns)) # für alle Fälle\n",
    "outputTitles = (list(output_df.columns)) # für alle Fälle"
   ]
  },
  {
   "cell_type": "raw",
   "metadata": {},
   "source": [
    "# LabelEncoding on output_DF\n",
    "from sklearn.preprocessing import LabelEncoder\n",
    "encoder = LabelEncoder()\n",
    "output_df = encoder.fit_transform(output_df.num)\n",
    "print(output_df)"
   ]
  },
  {
   "cell_type": "code",
   "execution_count": 5,
   "metadata": {},
   "outputs": [
    {
     "data": {
      "text/plain": [
       "(41, 41, 164, 164)"
      ]
     },
     "execution_count": 5,
     "metadata": {},
     "output_type": "execute_result"
    }
   ],
   "source": [
    "train_X, test_X, train_y, test_y = train_test_split(\n",
    "    input_df, \n",
    "    output_df,\n",
    "    test_size=0.2,\n",
    "    random_state = 123142\n",
    ") \n",
    "len(test_X), len(test_y), len(train_X), len(train_y)\n",
    "\n",
    "# brauchts für die CM\n",
    "#test_y_numpy = test_y.to_numpy()\n",
    "#test_y_numpy = test_y_numpy.ravel()"
   ]
  },
  {
   "cell_type": "markdown",
   "metadata": {},
   "source": [
    "## Skalieren"
   ]
  },
  {
   "cell_type": "markdown",
   "metadata": {},
   "source": [
    "In der EDA habe ich zwar nicht wirklich Ausreißer detektiert, wähle jedoch aus meiner bisherigen Erfahrung den Robust-Scaler."
   ]
  },
  {
   "cell_type": "code",
   "execution_count": 6,
   "metadata": {},
   "outputs": [
    {
     "data": {
      "text/plain": [
       "RobustScaler(copy=True, quantile_range=(25.0, 75.0), with_centering=True,\n",
       "             with_scaling=True)"
      ]
     },
     "execution_count": 6,
     "metadata": {},
     "output_type": "execute_result"
    }
   ],
   "source": [
    "robust_scaler_X = RobustScaler()\n",
    "#robust_scaler_y = RobustScaler() => Klassifikation, brauchen wir hier nicht\n",
    "\n",
    "robust_scaler_X.fit(train_X)\n",
    "#robust_scaler_y.fit(train_y)=> Klassifikation, brauchen wir hier nicht"
   ]
  },
  {
   "cell_type": "code",
   "execution_count": 7,
   "metadata": {},
   "outputs": [],
   "source": [
    "train_X_prepared = robust_scaler_X.transform(train_X)\n",
    "test_X_prepared = robust_scaler_X.transform(test_X)"
   ]
  },
  {
   "cell_type": "code",
   "execution_count": 8,
   "metadata": {},
   "outputs": [
    {
     "data": {
      "text/html": [
       "<div>\n",
       "<style scoped>\n",
       "    .dataframe tbody tr th:only-of-type {\n",
       "        vertical-align: middle;\n",
       "    }\n",
       "\n",
       "    .dataframe tbody tr th {\n",
       "        vertical-align: top;\n",
       "    }\n",
       "\n",
       "    .dataframe thead th {\n",
       "        text-align: right;\n",
       "    }\n",
       "</style>\n",
       "<table border=\"1\" class=\"dataframe\">\n",
       "  <thead>\n",
       "    <tr style=\"text-align: right;\">\n",
       "      <th></th>\n",
       "      <th>symboling</th>\n",
       "      <th>normalizedLosses</th>\n",
       "      <th>wheelBase</th>\n",
       "      <th>length</th>\n",
       "      <th>width</th>\n",
       "      <th>height</th>\n",
       "      <th>curbWeight</th>\n",
       "      <th>engineSize</th>\n",
       "      <th>bore</th>\n",
       "      <th>stroke</th>\n",
       "      <th>...</th>\n",
       "      <th>ohcv</th>\n",
       "      <th>rotor</th>\n",
       "      <th>1bbl</th>\n",
       "      <th>2bbl</th>\n",
       "      <th>4bbl</th>\n",
       "      <th>idi</th>\n",
       "      <th>mfi</th>\n",
       "      <th>mpfi</th>\n",
       "      <th>spdi</th>\n",
       "      <th>spfi</th>\n",
       "    </tr>\n",
       "  </thead>\n",
       "  <tbody>\n",
       "    <tr>\n",
       "      <th>0</th>\n",
       "      <td>-0.5</td>\n",
       "      <td>-0.532189</td>\n",
       "      <td>-0.126582</td>\n",
       "      <td>-0.425397</td>\n",
       "      <td>-0.392857</td>\n",
       "      <td>-0.282051</td>\n",
       "      <td>-0.406910</td>\n",
       "      <td>-0.259067</td>\n",
       "      <td>-0.211640</td>\n",
       "      <td>-1.174312</td>\n",
       "      <td>...</td>\n",
       "      <td>0.0</td>\n",
       "      <td>0.0</td>\n",
       "      <td>0.0</td>\n",
       "      <td>1.0</td>\n",
       "      <td>0.0</td>\n",
       "      <td>0.0</td>\n",
       "      <td>0.0</td>\n",
       "      <td>0.0</td>\n",
       "      <td>0.0</td>\n",
       "      <td>0.0</td>\n",
       "    </tr>\n",
       "    <tr>\n",
       "      <th>1</th>\n",
       "      <td>0.0</td>\n",
       "      <td>0.446352</td>\n",
       "      <td>-0.379747</td>\n",
       "      <td>-0.996825</td>\n",
       "      <td>-0.607143</td>\n",
       "      <td>-0.897436</td>\n",
       "      <td>-0.282790</td>\n",
       "      <td>-0.259067</td>\n",
       "      <td>-0.550265</td>\n",
       "      <td>0.146789</td>\n",
       "      <td>...</td>\n",
       "      <td>0.0</td>\n",
       "      <td>0.0</td>\n",
       "      <td>0.0</td>\n",
       "      <td>0.0</td>\n",
       "      <td>0.0</td>\n",
       "      <td>0.0</td>\n",
       "      <td>0.0</td>\n",
       "      <td>1.0</td>\n",
       "      <td>0.0</td>\n",
       "      <td>0.0</td>\n",
       "    </tr>\n",
       "    <tr>\n",
       "      <th>2</th>\n",
       "      <td>0.0</td>\n",
       "      <td>0.051502</td>\n",
       "      <td>-0.050633</td>\n",
       "      <td>-0.038095</td>\n",
       "      <td>-0.035714</td>\n",
       "      <td>-0.641026</td>\n",
       "      <td>-0.011516</td>\n",
       "      <td>-0.010363</td>\n",
       "      <td>-0.253968</td>\n",
       "      <td>0.403670</td>\n",
       "      <td>...</td>\n",
       "      <td>0.0</td>\n",
       "      <td>0.0</td>\n",
       "      <td>0.0</td>\n",
       "      <td>0.0</td>\n",
       "      <td>0.0</td>\n",
       "      <td>0.0</td>\n",
       "      <td>0.0</td>\n",
       "      <td>0.0</td>\n",
       "      <td>1.0</td>\n",
       "      <td>0.0</td>\n",
       "    </tr>\n",
       "    <tr>\n",
       "      <th>3</th>\n",
       "      <td>-0.5</td>\n",
       "      <td>-0.532189</td>\n",
       "      <td>-0.126582</td>\n",
       "      <td>-0.425397</td>\n",
       "      <td>-0.392857</td>\n",
       "      <td>-0.333333</td>\n",
       "      <td>-0.371081</td>\n",
       "      <td>-0.259067</td>\n",
       "      <td>-0.211640</td>\n",
       "      <td>-1.174312</td>\n",
       "      <td>...</td>\n",
       "      <td>0.0</td>\n",
       "      <td>0.0</td>\n",
       "      <td>0.0</td>\n",
       "      <td>1.0</td>\n",
       "      <td>0.0</td>\n",
       "      <td>0.0</td>\n",
       "      <td>0.0</td>\n",
       "      <td>0.0</td>\n",
       "      <td>0.0</td>\n",
       "      <td>0.0</td>\n",
       "    </tr>\n",
       "    <tr>\n",
       "      <th>4</th>\n",
       "      <td>1.0</td>\n",
       "      <td>1.098712</td>\n",
       "      <td>-0.278481</td>\n",
       "      <td>-0.260317</td>\n",
       "      <td>1.000000</td>\n",
       "      <td>-1.000000</td>\n",
       "      <td>0.468330</td>\n",
       "      <td>0.839378</td>\n",
       "      <td>1.375661</td>\n",
       "      <td>-0.880734</td>\n",
       "      <td>...</td>\n",
       "      <td>0.0</td>\n",
       "      <td>0.0</td>\n",
       "      <td>0.0</td>\n",
       "      <td>0.0</td>\n",
       "      <td>0.0</td>\n",
       "      <td>0.0</td>\n",
       "      <td>0.0</td>\n",
       "      <td>1.0</td>\n",
       "      <td>0.0</td>\n",
       "      <td>0.0</td>\n",
       "    </tr>\n",
       "  </tbody>\n",
       "</table>\n",
       "<p>5 rows × 69 columns</p>\n",
       "</div>"
      ],
      "text/plain": [
       "   symboling  normalizedLosses  wheelBase    length     width    height  \\\n",
       "0       -0.5         -0.532189  -0.126582 -0.425397 -0.392857 -0.282051   \n",
       "1        0.0          0.446352  -0.379747 -0.996825 -0.607143 -0.897436   \n",
       "2        0.0          0.051502  -0.050633 -0.038095 -0.035714 -0.641026   \n",
       "3       -0.5         -0.532189  -0.126582 -0.425397 -0.392857 -0.333333   \n",
       "4        1.0          1.098712  -0.278481 -0.260317  1.000000 -1.000000   \n",
       "\n",
       "   curbWeight  engineSize      bore    stroke  ...  ohcv  rotor  1bbl  2bbl  \\\n",
       "0   -0.406910   -0.259067 -0.211640 -1.174312  ...   0.0    0.0   0.0   1.0   \n",
       "1   -0.282790   -0.259067 -0.550265  0.146789  ...   0.0    0.0   0.0   0.0   \n",
       "2   -0.011516   -0.010363 -0.253968  0.403670  ...   0.0    0.0   0.0   0.0   \n",
       "3   -0.371081   -0.259067 -0.211640 -1.174312  ...   0.0    0.0   0.0   1.0   \n",
       "4    0.468330    0.839378  1.375661 -0.880734  ...   0.0    0.0   0.0   0.0   \n",
       "\n",
       "   4bbl  idi  mfi  mpfi  spdi  spfi  \n",
       "0   0.0  0.0  0.0   0.0   0.0   0.0  \n",
       "1   0.0  0.0  0.0   1.0   0.0   0.0  \n",
       "2   0.0  0.0  0.0   0.0   1.0   0.0  \n",
       "3   0.0  0.0  0.0   0.0   0.0   0.0  \n",
       "4   0.0  0.0  0.0   1.0   0.0   0.0  \n",
       "\n",
       "[5 rows x 69 columns]"
      ]
     },
     "execution_count": 8,
     "metadata": {},
     "output_type": "execute_result"
    }
   ],
   "source": [
    "pd.DataFrame(train_X_prepared, columns=input_df.columns).head(5)"
   ]
  },
  {
   "cell_type": "markdown",
   "metadata": {},
   "source": [
    "## Modellierung\n"
   ]
  },
  {
   "cell_type": "markdown",
   "metadata": {},
   "source": [
    "Der nachfolgende Junk dient dazu, einen ersten First shot abzufeuern und ein paar Klassifikatoren im Schnelldurchlauf auf die Daten abzufeuern. Als Resultat erhalte ich hierbei eine Liste mit dem Name des Algorithmuses und dessen Accuracy. Anschließend arbeite ich die 2-3 bestenn Algorithmen aus"
   ]
  },
  {
   "cell_type": "code",
   "execution_count": 9,
   "metadata": {},
   "outputs": [
    {
     "name": "stderr",
     "output_type": "stream",
     "text": [
      "C:\\Users\\1810837475\\.conda\\envs\\Kompensationsarbeit\\lib\\site-packages\\ipykernel_launcher.py:19: DataConversionWarning: A column-vector y was passed when a 1d array was expected. Please change the shape of y to (n_samples, ), for example using ravel().\n",
      "C:\\Users\\1810837475\\.conda\\envs\\Kompensationsarbeit\\lib\\site-packages\\sklearn\\utils\\validation.py:744: DataConversionWarning: A column-vector y was passed when a 1d array was expected. Please change the shape of y to (n_samples, ), for example using ravel().\n",
      "  y = column_or_1d(y, warn=True)\n",
      "C:\\Users\\1810837475\\.conda\\envs\\Kompensationsarbeit\\lib\\site-packages\\sklearn\\utils\\validation.py:744: DataConversionWarning: A column-vector y was passed when a 1d array was expected. Please change the shape of y to (n_samples, ), for example using ravel().\n",
      "  y = column_or_1d(y, warn=True)\n",
      "C:\\Users\\1810837475\\.conda\\envs\\Kompensationsarbeit\\lib\\site-packages\\ipykernel_launcher.py:19: DataConversionWarning: A column-vector y was passed when a 1d array was expected. Please change the shape of y to (n_samples,), for example using ravel().\n"
     ]
    },
    {
     "name": "stdout",
     "output_type": "stream",
     "text": [
      "------------------------------------------\n",
      "['Nearest Neighbors', 0.8536585365853658]\n",
      "['Support VM', 0.8536585365853658]\n",
      "['Gaussian Process', 0.024390243902439025]\n",
      "['Decision Tree', 0.9512195121951219]\n",
      "['Random Forest', 0.926829268292683]\n",
      "['AdaBoost', 0.9024390243902439]\n",
      "['Naive Bayes', 0.7804878048780488]\n",
      "['StochGradDesc', 0.6341463414634146]\n",
      "------------------------------------------\n"
     ]
    },
    {
     "name": "stderr",
     "output_type": "stream",
     "text": [
      "C:\\Users\\1810837475\\.conda\\envs\\Kompensationsarbeit\\lib\\site-packages\\sklearn\\utils\\validation.py:744: DataConversionWarning: A column-vector y was passed when a 1d array was expected. Please change the shape of y to (n_samples, ), for example using ravel().\n",
      "  y = column_or_1d(y, warn=True)\n",
      "C:\\Users\\1810837475\\.conda\\envs\\Kompensationsarbeit\\lib\\site-packages\\sklearn\\naive_bayes.py:207: DataConversionWarning: A column-vector y was passed when a 1d array was expected. Please change the shape of y to (n_samples, ), for example using ravel().\n",
      "  y = column_or_1d(y, warn=True)\n",
      "C:\\Users\\1810837475\\.conda\\envs\\Kompensationsarbeit\\lib\\site-packages\\sklearn\\utils\\validation.py:744: DataConversionWarning: A column-vector y was passed when a 1d array was expected. Please change the shape of y to (n_samples, ), for example using ravel().\n",
      "  y = column_or_1d(y, warn=True)\n",
      "C:\\Users\\1810837475\\.conda\\envs\\Kompensationsarbeit\\lib\\site-packages\\sklearn\\linear_model\\_stochastic_gradient.py:557: ConvergenceWarning: Maximum number of iteration reached before convergence. Consider increasing max_iter to improve the fit.\n",
      "  ConvergenceWarning)\n"
     ]
    }
   ],
   "source": [
    "names = [\"Nearest Neighbors\",  \"Support VM\", \"Gaussian Process\",\n",
    "          \"Decision Tree\", \"Random Forest\", \"AdaBoost\",\n",
    "          \"Naive Bayes\", \"StochGradDesc\", ]   # \"Linear SVM\",\n",
    "\n",
    "classifiers = [\n",
    "     KNeighborsClassifier(10), \n",
    "     SVC(),\n",
    "     GaussianProcessClassifier(),\n",
    "     DecisionTreeClassifier(max_depth=30),\n",
    "     RandomForestClassifier(max_depth=30, n_estimators=500, max_features=10),\n",
    "     AdaBoostClassifier(), \n",
    "     GaussianNB(), \n",
    "     SGDClassifier(loss=\"log\", max_iter=30)]\n",
    "\n",
    "labels = np.unique(test_y)\n",
    "returnList = []\n",
    "for name, clf in zip(names, classifiers):\n",
    "    interimColumn = []\n",
    "    clf.fit(train_X, train_y)\n",
    "    score = clf.score(test_X, test_y)\n",
    "    predicted = clf.predict(test_X)\n",
    "    actual = test_y\n",
    "    interimColumn.append([name, score])\n",
    "    returnList.append(interimColumn)\n",
    "    \n",
    "from tabulate import tabulate\n",
    "print(tabulate(returnList))"
   ]
  },
  {
   "cell_type": "markdown",
   "metadata": {},
   "source": [
    "and the winner is..... DecisionTree, Random forrest, AdaBoost"
   ]
  },
  {
   "cell_type": "markdown",
   "metadata": {},
   "source": [
    "# Helper Functions"
   ]
  },
  {
   "cell_type": "code",
   "execution_count": 10,
   "metadata": {},
   "outputs": [],
   "source": [
    "def plot_confusion_matrix(cm, classes,\n",
    "                          normalize=False,\n",
    "                          title='Confusion matrix',\n",
    "                          cmap=plt.cm.Blues):\n",
    "    \"\"\"\n",
    "    This function prints and plots the confusion matrix.\n",
    "    Normalization can be applied by setting `normalize=True`.\n",
    "    \"\"\"\n",
    "    import itertools\n",
    "    '''\n",
    "    if normalize:\n",
    "        cm = cm.astype('float') / cm.sum(axis=1)[:, np.newaxis]\n",
    "        print(\"Normalized confusion matrix\")\n",
    "    else:\n",
    "        print('Confusion matrix, without normalization')\n",
    "\n",
    "    print(cm)\n",
    "    '''\n",
    "\n",
    "    plt.imshow(cm, interpolation='nearest', cmap=cmap)\n",
    "    plt.title(title)\n",
    "    plt.colorbar()\n",
    "    tick_marks = np.arange(len(classes))\n",
    "    plt.xticks(tick_marks, classes, rotation=45)\n",
    "    plt.yticks(tick_marks, classes)\n",
    "\n",
    "    fmt = '.2f' if normalize else 'd'\n",
    "    thresh = cm.max() / 2.\n",
    "    for i, j in itertools.product(range(cm.shape[0]), range(cm.shape[1])):\n",
    "        plt.text(j, i, format(cm[i, j], fmt),\n",
    "                 horizontalalignment=\"center\",\n",
    "                 color=\"white\" if cm[i, j] > thresh else \"black\")\n",
    "\n",
    "    plt.ylabel('True label')\n",
    "    plt.xlabel('Predicted label')\n",
    "    plt.tight_layout()\n",
    "    \n",
    "def printFeatureImportance(classifier):\n",
    "    feature_importance = pd.DataFrame(\n",
    "        {\n",
    "            \"label\": inputTitles, \n",
    "            \"importance\":classifier.feature_importances_\n",
    "        }\n",
    "    )\n",
    "    feature_importance = feature_importance.sort_values([\"importance\"])\n",
    "\n",
    "    plt.figure(figsize=(20, 10))\n",
    "    p = sns.barplot(x=feature_importance.importance, y=feature_importance.label)\n",
    "    p.tick_params(labelsize=18)\n",
    "    p.set_xlabel(\"importance\", fontsize=20)\n",
    "    p.set_ylabel(\"feature\", fontsize=20)"
   ]
  },
  {
   "cell_type": "code",
   "execution_count": 11,
   "metadata": {},
   "outputs": [],
   "source": [
    "# Decision Tree"
   ]
  },
  {
   "cell_type": "code",
   "execution_count": 19,
   "metadata": {},
   "outputs": [
    {
     "data": {
      "text/plain": [
       "DecisionTreeClassifier(ccp_alpha=0.0, class_weight=None, criterion='gini',\n",
       "                       max_depth=30, max_features=None, max_leaf_nodes=None,\n",
       "                       min_impurity_decrease=0.0, min_impurity_split=None,\n",
       "                       min_samples_leaf=1, min_samples_split=2,\n",
       "                       min_weight_fraction_leaf=0.0, presort='deprecated',\n",
       "                       random_state=None, splitter='best')"
      ]
     },
     "execution_count": 19,
     "metadata": {},
     "output_type": "execute_result"
    }
   ],
   "source": [
    "dt_classifier = DecisionTreeClassifier(max_depth=30)\n",
    "dt_classifier.fit(train_X_prepared, train_y.values.ravel())"
   ]
  },
  {
   "cell_type": "code",
   "execution_count": 20,
   "metadata": {},
   "outputs": [
    {
     "data": {
      "text/plain": [
       "0.9512195121951219"
      ]
     },
     "execution_count": 20,
     "metadata": {},
     "output_type": "execute_result"
    }
   ],
   "source": [
    "dt_classifier.score(test_X_prepared, test_y)"
   ]
  },
  {
   "cell_type": "code",
   "execution_count": 22,
   "metadata": {},
   "outputs": [],
   "source": [
    "predicted = dt_classifier.predict(test_X_prepared)\n",
    "actual = test_y\n",
    "cnf_matrix = confusion_matrix(actual, predicted)"
   ]
  },
  {
   "cell_type": "markdown",
   "metadata": {},
   "source": [
    "# Random Forrest"
   ]
  },
  {
   "cell_type": "code",
   "execution_count": 12,
   "metadata": {},
   "outputs": [
    {
     "data": {
      "text/plain": [
       "RandomForestClassifier(bootstrap=True, ccp_alpha=0.0, class_weight=None,\n",
       "                       criterion='gini', max_depth=None, max_features='auto',\n",
       "                       max_leaf_nodes=None, max_samples=None,\n",
       "                       min_impurity_decrease=0.0, min_impurity_split=None,\n",
       "                       min_samples_leaf=1, min_samples_split=2,\n",
       "                       min_weight_fraction_leaf=0.0, n_estimators=500,\n",
       "                       n_jobs=None, oob_score=False, random_state=None,\n",
       "                       verbose=0, warm_start=False)"
      ]
     },
     "execution_count": 12,
     "metadata": {},
     "output_type": "execute_result"
    }
   ],
   "source": [
    "rf_classifier = RandomForestClassifier(n_estimators=500, )\n",
    "rf_classifier.fit(train_X_prepared, train_y.values.ravel())"
   ]
  },
  {
   "cell_type": "code",
   "execution_count": 13,
   "metadata": {},
   "outputs": [
    {
     "data": {
      "text/plain": [
       "0.926829268292683"
      ]
     },
     "execution_count": 13,
     "metadata": {},
     "output_type": "execute_result"
    }
   ],
   "source": [
    "rf_classifier.score(test_X_prepared, test_y)"
   ]
  },
  {
   "cell_type": "code",
   "execution_count": 14,
   "metadata": {},
   "outputs": [],
   "source": [
    "predicted = rf_classifier.predict(test_X_prepared)\n",
    "actual = test_y\n",
    "cnf_matrix = confusion_matrix(actual, predicted)"
   ]
  },
  {
   "cell_type": "code",
   "execution_count": 16,
   "metadata": {},
   "outputs": [],
   "source": []
  },
  {
   "cell_type": "code",
   "execution_count": 17,
   "metadata": {},
   "outputs": [
    {
     "data": {
      "image/png": "[encoded data removed]",
      "text/plain": [
       "<Figure size 1440x720 with 1 Axes>"
      ]
     },
     "metadata": {
      "needs_background": "light"
     },
     "output_type": "display_data"
    }
   ],
   "source": [
    "printFeatureImportance(rf_classifier)"
   ]
  },
  {
   "cell_type": "code",
   "execution_count": 18,
   "metadata": {},
   "outputs": [
    {
     "data": {
      "image/png": "[encoded data removed]",
      "text/plain": [
       "<Figure size 432x288 with 2 Axes>"
      ]
     },
     "metadata": {
      "needs_background": "light"
     },
     "output_type": "display_data"
    }
   ],
   "source": [
    "RF_CM = plot_confusion_matrix(cnf_matrix, classes=labels,\n",
    "                      title=\"Random-Forrest\")"
   ]
  },
  {
   "cell_type": "code",
   "execution_count": null,
   "metadata": {},
   "outputs": [],
   "source": []
  }
 ],
 "metadata": {
  "kernelspec": {
   "display_name": "Python 3",
   "language": "python",
   "name": "python3"
  },
  "language_info": {
   "codemirror_mode": {
    "name": "ipython",
    "version": 3
   },
   "file_extension": ".py",
   "mimetype": "text/x-python",
   "name": "python",
   "nbconvert_exporter": "python",
   "pygments_lexer": "ipython3",
   "version": "3.6.9"
  }
 },
 "nbformat": 4,
 "nbformat_minor": 2
}
